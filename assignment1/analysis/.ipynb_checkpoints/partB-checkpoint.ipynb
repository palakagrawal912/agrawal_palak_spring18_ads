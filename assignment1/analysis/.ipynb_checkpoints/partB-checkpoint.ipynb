{
 "cells": [
  {
   "cell_type": "markdown",
   "metadata": {
    "collapsed": true
   },
   "source": [
    "# Part B of Assignment 1 - Web Scrapping - www.uber.com\n",
    "- Find a public website. You must post your website domain (e.g. amazon.com) on the class piazza and get an OK before using it as every student needs to use a different website.\n",
    "- Collect all of the external links (there must be some on the page of your )\n",
    "- Associate the link with a textual description of it from the website.\n",
    "- Write a function to check whether the link is valid.\n",
    "- Save the external links(urls), textual description, a boolean for valid, and the last vaild datetime check to an excel file."
   ]
  },
  {
   "cell_type": "code",
   "execution_count": 1,
   "metadata": {
    "collapsed": true
   },
   "outputs": [],
   "source": [
    "#Declaring imports for importing modules\n",
    "\n",
    "import requests\n",
    "import urllib3\n",
    "import datetime\n",
    "import pandas as pd\n",
    "import numpy as np\n",
    "from pprint import pprint\n",
    "import os\n",
    "import re\n",
    "from bs4 import BeautifulSoup, SoupStrainer, Comment\n"
   ]
  },
  {
   "cell_type": "code",
   "execution_count": 2,
   "metadata": {},
   "outputs": [
    {
     "name": "stderr",
     "output_type": "stream",
     "text": [
      "/Users/palakagrawal/anaconda3/lib/python3.6/site-packages/urllib3/connectionpool.py:858: InsecureRequestWarning: Unverified HTTPS request is being made. Adding certificate verification is strongly advised. See: https://urllib3.readthedocs.io/en/latest/advanced-usage.html#ssl-warnings\n",
      "  InsecureRequestWarning)\n"
     ]
    }
   ],
   "source": [
    "# Requesting uber page source\n",
    "\n",
    "http = urllib3.PoolManager()\n",
    "url = \"http://www.uber.com\"\n",
    "response = requests.get(url)\n",
    "responseData = http.request('GET',url)\n"
   ]
  },
  {
   "cell_type": "code",
   "execution_count": 3,
   "metadata": {},
   "outputs": [
    {
     "name": "stderr",
     "output_type": "stream",
     "text": [
      "/Users/palakagrawal/anaconda3/lib/python3.6/site-packages/bs4/__init__.py:181: UserWarning: No parser was explicitly specified, so I'm using the best available HTML parser for this system (\"lxml\"). This usually isn't a problem, but if you run this code on another system, or in a different virtual environment, it may use a different parser and behave differently.\n",
      "\n",
      "The code that caused this warning is on line 193 of the file /Users/palakagrawal/anaconda3/lib/python3.6/runpy.py. To get rid of this warning, change code that looks like this:\n",
      "\n",
      " BeautifulSoup(YOUR_MARKUP})\n",
      "\n",
      "to this:\n",
      "\n",
      " BeautifulSoup(YOUR_MARKUP, \"lxml\")\n",
      "\n",
      "  markup_type=markup_type))\n"
     ]
    }
   ],
   "source": [
    "# Parsing the html data collected using Beautiful Soup library\n",
    "\n",
    "page = str(BeautifulSoup(response.content.decode('unicode_escape')))\n",
    "soup = BeautifulSoup(responseData.data)"
   ]
  },
  {
   "cell_type": "code",
   "execution_count": 4,
   "metadata": {
    "collapsed": true
   },
   "outputs": [],
   "source": [
    "# def getURL(page, tag):\n",
    "#     \"\"\"\n",
    "\n",
    "#     :param page: html of web page (here: Python home page) \n",
    "#     :return: urls in that page \n",
    "#     \"\"\"\n",
    "#     start_link = page.find(tag)\n",
    "    \n",
    "#     if start_link == -1:\n",
    "#         return None, 0\n",
    "#     start_quote = page.find('\"', start_link)\n",
    "#     end_quote = page.find('\"', start_quote + 1)\n",
    "#     url = page[start_quote + 1: end_quote]\n",
    "    \n",
    "#     if url.startswith(\"/\"):\n",
    "#         url = \"https://www.uber.com\" + url\n",
    "        \n",
    "#     return url, end_quote\n",
    "\n",
    "# linkTag = \"link href\"\n",
    "# while True:\n",
    "#     url, n = getURL(page, linkTag)\n",
    "#     page = page[n:]\n",
    "#     if url:\n",
    "#         print(url)\n",
    "#     else:\n",
    "#         break"
   ]
  },
  {
   "cell_type": "code",
   "execution_count": 5,
   "metadata": {},
   "outputs": [],
   "source": [
    "# For collecting anchor and link tag URLs \n",
    "anchorLinks = soup.find_all('a')\n",
    "links = soup.find_all('link')\n",
    "\n",
    "anchorDict = {}\n",
    "linkDict = {}"
   ]
  },
  {
   "cell_type": "code",
   "execution_count": 6,
   "metadata": {
    "collapsed": true
   },
   "outputs": [],
   "source": [
    "# Collecting anchor tag links and web description and if None is collected, assigning default values\n",
    "\n",
    "for tag in anchorLinks:\n",
    "    key = tag.text\n",
    "    value = tag.get('href', None)\n",
    "    if value is None:\n",
    "        key = 'Not Available'\n",
    "        value = '#'\n",
    "    anchorDict[key] = value\n",
    "    anchorDict.update(anchorDict)\n"
   ]
  },
  {
   "cell_type": "code",
   "execution_count": 7,
   "metadata": {
    "collapsed": true
   },
   "outputs": [],
   "source": [
    "# Collecting Link tag links and web description and if None is collected, assigning default values\n",
    "\n",
    "for tag in links:\n",
    "    key = tag.get('rel', None)\n",
    "    value = tag.get('href', None)\n",
    "    if value is None:\n",
    "        key = 'Not Available'\n",
    "        value = '#'\n",
    "    key = ''.join(key)\n",
    "    linkDict[key] = value\n",
    "    linkDict.update(linkDict)"
   ]
  },
  {
   "cell_type": "code",
   "execution_count": 8,
   "metadata": {
    "collapsed": true
   },
   "outputs": [],
   "source": [
    "# creating dataframes for collected data\n",
    "\n",
    "anchorDF = pd.DataFrame(list(anchorDict.items()),columns=['Web Description','URL'])\n",
    "linkDF = pd.DataFrame(list(linkDict.items()), columns=['Web Description','URL'])"
   ]
  },
  {
   "cell_type": "code",
   "execution_count": 9,
   "metadata": {
    "collapsed": true
   },
   "outputs": [],
   "source": [
    "# Correcting short links collected\n",
    "\n",
    "condition = anchorDF['URL'].str.startswith('/')\n",
    "anchorDF['NewURL'] = np.where(condition, \"https://www.uber.com\" + anchorDF['URL'], anchorDF['URL'] )\n",
    "\n",
    "condition = linkDF['URL'].str.startswith('/')\n",
    "linkDF['NewURL'] = np.where(condition, \"https://www.uber.com\" + linkDF['URL'], linkDF['URL'] )\n"
   ]
  },
  {
   "cell_type": "code",
   "execution_count": 10,
   "metadata": {},
   "outputs": [
    {
     "data": {
      "text/html": [
       "<div>\n",
       "<style scoped>\n",
       "    .dataframe tbody tr th:only-of-type {\n",
       "        vertical-align: middle;\n",
       "    }\n",
       "\n",
       "    .dataframe tbody tr th {\n",
       "        vertical-align: top;\n",
       "    }\n",
       "\n",
       "    .dataframe thead th {\n",
       "        text-align: right;\n",
       "    }\n",
       "</style>\n",
       "<table border=\"1\" class=\"dataframe\">\n",
       "  <thead>\n",
       "    <tr style=\"text-align: right;\">\n",
       "      <th></th>\n",
       "      <th>Web Description</th>\n",
       "      <th>URL</th>\n",
       "      <th>NewURL</th>\n",
       "    </tr>\n",
       "  </thead>\n",
       "  <tbody>\n",
       "    <tr>\n",
       "      <th>0</th>\n",
       "      <td>Skip to main content</td>\n",
       "      <td>#maincontent</td>\n",
       "      <td>#maincontent</td>\n",
       "    </tr>\n",
       "    <tr>\n",
       "      <th>1</th>\n",
       "      <td>English</td>\n",
       "      <td>#</td>\n",
       "      <td>#</td>\n",
       "    </tr>\n",
       "    <tr>\n",
       "      <th>2</th>\n",
       "      <td>Español (Internacional)</td>\n",
       "      <td>#</td>\n",
       "      <td>#</td>\n",
       "    </tr>\n",
       "    <tr>\n",
       "      <th>3</th>\n",
       "      <td>Қазақша</td>\n",
       "      <td>#</td>\n",
       "      <td>#</td>\n",
       "    </tr>\n",
       "    <tr>\n",
       "      <th>4</th>\n",
       "      <td>简体中文</td>\n",
       "      <td>#</td>\n",
       "      <td>#</td>\n",
       "    </tr>\n",
       "  </tbody>\n",
       "</table>\n",
       "</div>"
      ],
      "text/plain": [
       "           Web Description           URL        NewURL\n",
       "0     Skip to main content  #maincontent  #maincontent\n",
       "1                  English             #             #\n",
       "2  Español (Internacional)             #             #\n",
       "3                  Қазақша             #             #\n",
       "4                     简体中文             #             #"
      ]
     },
     "execution_count": 10,
     "metadata": {},
     "output_type": "execute_result"
    }
   ],
   "source": [
    "anchorDF.head()"
   ]
  },
  {
   "cell_type": "code",
   "execution_count": 11,
   "metadata": {},
   "outputs": [
    {
     "data": {
      "text/html": [
       "<div>\n",
       "<style scoped>\n",
       "    .dataframe tbody tr th:only-of-type {\n",
       "        vertical-align: middle;\n",
       "    }\n",
       "\n",
       "    .dataframe tbody tr th {\n",
       "        vertical-align: top;\n",
       "    }\n",
       "\n",
       "    .dataframe thead th {\n",
       "        text-align: right;\n",
       "    }\n",
       "</style>\n",
       "<table border=\"1\" class=\"dataframe\">\n",
       "  <thead>\n",
       "    <tr style=\"text-align: right;\">\n",
       "      <th></th>\n",
       "      <th>Web Description</th>\n",
       "      <th>URL</th>\n",
       "      <th>NewURL</th>\n",
       "    </tr>\n",
       "  </thead>\n",
       "  <tbody>\n",
       "    <tr>\n",
       "      <th>0</th>\n",
       "      <td>apple-touch-icon</td>\n",
       "      <td>https://d1a3f4spazzrp4.cloudfront.net/uber-com...</td>\n",
       "      <td>https://d1a3f4spazzrp4.cloudfront.net/uber-com...</td>\n",
       "    </tr>\n",
       "    <tr>\n",
       "      <th>1</th>\n",
       "      <td>alternate</td>\n",
       "      <td>https://www.uber.com/km-KH/</td>\n",
       "      <td>https://www.uber.com/km-KH/</td>\n",
       "    </tr>\n",
       "    <tr>\n",
       "      <th>2</th>\n",
       "      <td>stylesheet</td>\n",
       "      <td>https://d1a3f4spazzrp4.cloudfront.net/uber-com...</td>\n",
       "      <td>https://d1a3f4spazzrp4.cloudfront.net/uber-com...</td>\n",
       "    </tr>\n",
       "    <tr>\n",
       "      <th>3</th>\n",
       "      <td>shortcuticon</td>\n",
       "      <td>https://d1a3f4spazzrp4.cloudfront.net/uber-com...</td>\n",
       "      <td>https://d1a3f4spazzrp4.cloudfront.net/uber-com...</td>\n",
       "    </tr>\n",
       "    <tr>\n",
       "      <th>4</th>\n",
       "      <td>canonical</td>\n",
       "      <td>https://www.uber.com/</td>\n",
       "      <td>https://www.uber.com/</td>\n",
       "    </tr>\n",
       "  </tbody>\n",
       "</table>\n",
       "</div>"
      ],
      "text/plain": [
       "    Web Description                                                URL  \\\n",
       "0  apple-touch-icon  https://d1a3f4spazzrp4.cloudfront.net/uber-com...   \n",
       "1         alternate                        https://www.uber.com/km-KH/   \n",
       "2        stylesheet  https://d1a3f4spazzrp4.cloudfront.net/uber-com...   \n",
       "3      shortcuticon  https://d1a3f4spazzrp4.cloudfront.net/uber-com...   \n",
       "4         canonical                              https://www.uber.com/   \n",
       "\n",
       "                                              NewURL  \n",
       "0  https://d1a3f4spazzrp4.cloudfront.net/uber-com...  \n",
       "1                        https://www.uber.com/km-KH/  \n",
       "2  https://d1a3f4spazzrp4.cloudfront.net/uber-com...  \n",
       "3  https://d1a3f4spazzrp4.cloudfront.net/uber-com...  \n",
       "4                              https://www.uber.com/  "
      ]
     },
     "execution_count": 11,
     "metadata": {},
     "output_type": "execute_result"
    }
   ],
   "source": [
    "linkDF.head()"
   ]
  },
  {
   "cell_type": "code",
   "execution_count": 12,
   "metadata": {
    "collapsed": true
   },
   "outputs": [],
   "source": [
    "# Merging anchor and link tag data\n",
    "\n",
    "URLDF = anchorDF.append(linkDF, ignore_index=True)"
   ]
  },
  {
   "cell_type": "code",
   "execution_count": 13,
   "metadata": {},
   "outputs": [
    {
     "data": {
      "text/html": [
       "<div>\n",
       "<style scoped>\n",
       "    .dataframe tbody tr th:only-of-type {\n",
       "        vertical-align: middle;\n",
       "    }\n",
       "\n",
       "    .dataframe tbody tr th {\n",
       "        vertical-align: top;\n",
       "    }\n",
       "\n",
       "    .dataframe thead th {\n",
       "        text-align: right;\n",
       "    }\n",
       "</style>\n",
       "<table border=\"1\" class=\"dataframe\">\n",
       "  <thead>\n",
       "    <tr style=\"text-align: right;\">\n",
       "      <th></th>\n",
       "      <th>Web Description</th>\n",
       "      <th>URL</th>\n",
       "      <th>NewURL</th>\n",
       "    </tr>\n",
       "  </thead>\n",
       "  <tbody>\n",
       "    <tr>\n",
       "      <th>0</th>\n",
       "      <td>Skip to main content</td>\n",
       "      <td>#maincontent</td>\n",
       "      <td>#maincontent</td>\n",
       "    </tr>\n",
       "    <tr>\n",
       "      <th>1</th>\n",
       "      <td>English</td>\n",
       "      <td>#</td>\n",
       "      <td>#</td>\n",
       "    </tr>\n",
       "    <tr>\n",
       "      <th>2</th>\n",
       "      <td>Español (Internacional)</td>\n",
       "      <td>#</td>\n",
       "      <td>#</td>\n",
       "    </tr>\n",
       "    <tr>\n",
       "      <th>3</th>\n",
       "      <td>Қазақша</td>\n",
       "      <td>#</td>\n",
       "      <td>#</td>\n",
       "    </tr>\n",
       "    <tr>\n",
       "      <th>4</th>\n",
       "      <td>简体中文</td>\n",
       "      <td>#</td>\n",
       "      <td>#</td>\n",
       "    </tr>\n",
       "  </tbody>\n",
       "</table>\n",
       "</div>"
      ],
      "text/plain": [
       "           Web Description           URL        NewURL\n",
       "0     Skip to main content  #maincontent  #maincontent\n",
       "1                  English             #             #\n",
       "2  Español (Internacional)             #             #\n",
       "3                  Қазақша             #             #\n",
       "4                     简体中文             #             #"
      ]
     },
     "execution_count": 13,
     "metadata": {},
     "output_type": "execute_result"
    }
   ],
   "source": [
    "URLDF.head()"
   ]
  },
  {
   "cell_type": "code",
   "execution_count": 14,
   "metadata": {},
   "outputs": [],
   "source": [
    "# Excluding Internal links and collecting external links\n",
    "\n",
    "URLExternal = pd.DataFrame()\n",
    "URLInternal = pd.DataFrame()\n",
    "\n",
    "word = 'uber'\n",
    "for ix , row in URLDF.iterrows():\n",
    "    if (row[2].startswith('#')):\n",
    "        URLInternal = URLInternal.append(row, ignore_index=True)\n",
    "    else:\n",
    "        regexp = re.search('.*\\://?([^\\/]+)\\.(?:com|net).*$',row[2])\n",
    "        domain = regexp.group(1)\n",
    "        if (word not in domain):\n",
    "            URLExternal = URLExternal.append(row, ignore_index=True)\n",
    "        else:\n",
    "            URLInternal = URLInternal.append(row, ignore_index=True) \n",
    "            \n",
    "URLExternal['Datetime'] = pd.datetime.now()\n",
    "URLExternal['isValid'] = ''"
   ]
  },
  {
   "cell_type": "code",
   "execution_count": 15,
   "metadata": {},
   "outputs": [],
   "source": [
    "URLExternal['Web Description'] = URLExternal['Web Description'].str.strip()"
   ]
  },
  {
   "cell_type": "code",
   "execution_count": 16,
   "metadata": {},
   "outputs": [
    {
     "data": {
      "text/html": [
       "<div>\n",
       "<style scoped>\n",
       "    .dataframe tbody tr th:only-of-type {\n",
       "        vertical-align: middle;\n",
       "    }\n",
       "\n",
       "    .dataframe tbody tr th {\n",
       "        vertical-align: top;\n",
       "    }\n",
       "\n",
       "    .dataframe thead th {\n",
       "        text-align: right;\n",
       "    }\n",
       "</style>\n",
       "<table border=\"1\" class=\"dataframe\">\n",
       "  <thead>\n",
       "    <tr style=\"text-align: right;\">\n",
       "      <th></th>\n",
       "      <th>NewURL</th>\n",
       "      <th>URL</th>\n",
       "      <th>Web Description</th>\n",
       "      <th>Datetime</th>\n",
       "      <th>isValid</th>\n",
       "    </tr>\n",
       "  </thead>\n",
       "  <tbody>\n",
       "    <tr>\n",
       "      <th>0</th>\n",
       "      <td>https://microsoft.com/en-us/store/apps/uber/9w...</td>\n",
       "      <td>https://microsoft.com/en-us/store/apps/uber/9w...</td>\n",
       "      <td></td>\n",
       "      <td>2018-01-26 23:49:14.575405</td>\n",
       "      <td></td>\n",
       "    </tr>\n",
       "    <tr>\n",
       "      <th>1</th>\n",
       "      <td>https://www.facebook.com/uber</td>\n",
       "      <td>https://www.facebook.com/uber</td>\n",
       "      <td>Facebook</td>\n",
       "      <td>2018-01-26 23:49:14.575405</td>\n",
       "      <td></td>\n",
       "    </tr>\n",
       "    <tr>\n",
       "      <th>2</th>\n",
       "      <td>https://twitter.com/uber</td>\n",
       "      <td>https://twitter.com/uber</td>\n",
       "      <td>Twitter</td>\n",
       "      <td>2018-01-26 23:49:14.575405</td>\n",
       "      <td></td>\n",
       "    </tr>\n",
       "    <tr>\n",
       "      <th>3</th>\n",
       "      <td>https://www.linkedin.com/company/1815218</td>\n",
       "      <td>https://www.linkedin.com/company/1815218</td>\n",
       "      <td>LinkedIn</td>\n",
       "      <td>2018-01-26 23:49:14.575405</td>\n",
       "      <td></td>\n",
       "    </tr>\n",
       "    <tr>\n",
       "      <th>4</th>\n",
       "      <td>https://instagram.com/uber/</td>\n",
       "      <td>https://instagram.com/uber/</td>\n",
       "      <td>Instagram</td>\n",
       "      <td>2018-01-26 23:49:14.575405</td>\n",
       "      <td></td>\n",
       "    </tr>\n",
       "  </tbody>\n",
       "</table>\n",
       "</div>"
      ],
      "text/plain": [
       "                                              NewURL  \\\n",
       "0  https://microsoft.com/en-us/store/apps/uber/9w...   \n",
       "1                      https://www.facebook.com/uber   \n",
       "2                           https://twitter.com/uber   \n",
       "3           https://www.linkedin.com/company/1815218   \n",
       "4                        https://instagram.com/uber/   \n",
       "\n",
       "                                                 URL Web Description  \\\n",
       "0  https://microsoft.com/en-us/store/apps/uber/9w...                   \n",
       "1                      https://www.facebook.com/uber        Facebook   \n",
       "2                           https://twitter.com/uber         Twitter   \n",
       "3           https://www.linkedin.com/company/1815218        LinkedIn   \n",
       "4                        https://instagram.com/uber/       Instagram   \n",
       "\n",
       "                    Datetime isValid  \n",
       "0 2018-01-26 23:49:14.575405          \n",
       "1 2018-01-26 23:49:14.575405          \n",
       "2 2018-01-26 23:49:14.575405          \n",
       "3 2018-01-26 23:49:14.575405          \n",
       "4 2018-01-26 23:49:14.575405          "
      ]
     },
     "execution_count": 16,
     "metadata": {},
     "output_type": "execute_result"
    }
   ],
   "source": [
    "URLExternal.head()"
   ]
  },
  {
   "cell_type": "code",
   "execution_count": 17,
   "metadata": {
    "collapsed": true
   },
   "outputs": [],
   "source": [
    "# Function to validate the links\n",
    "\n",
    "def checkURL(linkValue):\n",
    "    \n",
    "    http = urllib3.PoolManager()\n",
    "    response = http.request('GET',linkValue)\n",
    "    \n",
    "    return response.status"
   ]
  },
  {
   "cell_type": "code",
   "execution_count": 18,
   "metadata": {},
   "outputs": [
    {
     "name": "stderr",
     "output_type": "stream",
     "text": [
      "/Users/palakagrawal/anaconda3/lib/python3.6/site-packages/urllib3/connectionpool.py:858: InsecureRequestWarning: Unverified HTTPS request is being made. Adding certificate verification is strongly advised. See: https://urllib3.readthedocs.io/en/latest/advanced-usage.html#ssl-warnings\n",
      "  InsecureRequestWarning)\n",
      "/Users/palakagrawal/anaconda3/lib/python3.6/site-packages/urllib3/connectionpool.py:858: InsecureRequestWarning: Unverified HTTPS request is being made. Adding certificate verification is strongly advised. See: https://urllib3.readthedocs.io/en/latest/advanced-usage.html#ssl-warnings\n",
      "  InsecureRequestWarning)\n",
      "/Users/palakagrawal/anaconda3/lib/python3.6/site-packages/urllib3/connectionpool.py:858: InsecureRequestWarning: Unverified HTTPS request is being made. Adding certificate verification is strongly advised. See: https://urllib3.readthedocs.io/en/latest/advanced-usage.html#ssl-warnings\n",
      "  InsecureRequestWarning)\n",
      "/Users/palakagrawal/anaconda3/lib/python3.6/site-packages/urllib3/connectionpool.py:858: InsecureRequestWarning: Unverified HTTPS request is being made. Adding certificate verification is strongly advised. See: https://urllib3.readthedocs.io/en/latest/advanced-usage.html#ssl-warnings\n",
      "  InsecureRequestWarning)\n",
      "/Users/palakagrawal/anaconda3/lib/python3.6/site-packages/urllib3/connectionpool.py:858: InsecureRequestWarning: Unverified HTTPS request is being made. Adding certificate verification is strongly advised. See: https://urllib3.readthedocs.io/en/latest/advanced-usage.html#ssl-warnings\n",
      "  InsecureRequestWarning)\n",
      "/Users/palakagrawal/anaconda3/lib/python3.6/site-packages/urllib3/connectionpool.py:858: InsecureRequestWarning: Unverified HTTPS request is being made. Adding certificate verification is strongly advised. See: https://urllib3.readthedocs.io/en/latest/advanced-usage.html#ssl-warnings\n",
      "  InsecureRequestWarning)\n",
      "/Users/palakagrawal/anaconda3/lib/python3.6/site-packages/urllib3/connectionpool.py:858: InsecureRequestWarning: Unverified HTTPS request is being made. Adding certificate verification is strongly advised. See: https://urllib3.readthedocs.io/en/latest/advanced-usage.html#ssl-warnings\n",
      "  InsecureRequestWarning)\n",
      "/Users/palakagrawal/anaconda3/lib/python3.6/site-packages/urllib3/connectionpool.py:858: InsecureRequestWarning: Unverified HTTPS request is being made. Adding certificate verification is strongly advised. See: https://urllib3.readthedocs.io/en/latest/advanced-usage.html#ssl-warnings\n",
      "  InsecureRequestWarning)\n",
      "/Users/palakagrawal/anaconda3/lib/python3.6/site-packages/urllib3/connectionpool.py:858: InsecureRequestWarning: Unverified HTTPS request is being made. Adding certificate verification is strongly advised. See: https://urllib3.readthedocs.io/en/latest/advanced-usage.html#ssl-warnings\n",
      "  InsecureRequestWarning)\n",
      "/Users/palakagrawal/anaconda3/lib/python3.6/site-packages/urllib3/connectionpool.py:858: InsecureRequestWarning: Unverified HTTPS request is being made. Adding certificate verification is strongly advised. See: https://urllib3.readthedocs.io/en/latest/advanced-usage.html#ssl-warnings\n",
      "  InsecureRequestWarning)\n",
      "/Users/palakagrawal/anaconda3/lib/python3.6/site-packages/urllib3/connectionpool.py:858: InsecureRequestWarning: Unverified HTTPS request is being made. Adding certificate verification is strongly advised. See: https://urllib3.readthedocs.io/en/latest/advanced-usage.html#ssl-warnings\n",
      "  InsecureRequestWarning)\n",
      "/Users/palakagrawal/anaconda3/lib/python3.6/site-packages/urllib3/connectionpool.py:858: InsecureRequestWarning: Unverified HTTPS request is being made. Adding certificate verification is strongly advised. See: https://urllib3.readthedocs.io/en/latest/advanced-usage.html#ssl-warnings\n",
      "  InsecureRequestWarning)\n"
     ]
    }
   ],
   "source": [
    "# Checking the status of the external links\n",
    "# Response code 200 is OK and hence link is valid\n",
    "# For Valid links - True else False\n",
    "\n",
    "for ind, row in URLExternal.iterrows():\n",
    "    response = checkURL(row[0])\n",
    "    if response == 200:\n",
    "        row[4] = True\n",
    "        row[3] = pd.datetime.now()\n",
    "    else:\n",
    "        row[4] = False\n",
    "        row[3] = pd.datetime.now()\n",
    "    \n",
    "    URLExternal.loc[ind] = row"
   ]
  },
  {
   "cell_type": "code",
   "execution_count": 19,
   "metadata": {},
   "outputs": [
    {
     "data": {
      "text/html": [
       "<div>\n",
       "<style scoped>\n",
       "    .dataframe tbody tr th:only-of-type {\n",
       "        vertical-align: middle;\n",
       "    }\n",
       "\n",
       "    .dataframe tbody tr th {\n",
       "        vertical-align: top;\n",
       "    }\n",
       "\n",
       "    .dataframe thead th {\n",
       "        text-align: right;\n",
       "    }\n",
       "</style>\n",
       "<table border=\"1\" class=\"dataframe\">\n",
       "  <thead>\n",
       "    <tr style=\"text-align: right;\">\n",
       "      <th></th>\n",
       "      <th>NewURL</th>\n",
       "      <th>URL</th>\n",
       "      <th>Web Description</th>\n",
       "      <th>Datetime</th>\n",
       "      <th>isValid</th>\n",
       "    </tr>\n",
       "  </thead>\n",
       "  <tbody>\n",
       "    <tr>\n",
       "      <th>0</th>\n",
       "      <td>https://microsoft.com/en-us/store/apps/uber/9w...</td>\n",
       "      <td>https://microsoft.com/en-us/store/apps/uber/9w...</td>\n",
       "      <td></td>\n",
       "      <td>2018-01-26 23:49:15.965514</td>\n",
       "      <td>True</td>\n",
       "    </tr>\n",
       "    <tr>\n",
       "      <th>1</th>\n",
       "      <td>https://www.facebook.com/uber</td>\n",
       "      <td>https://www.facebook.com/uber</td>\n",
       "      <td>Facebook</td>\n",
       "      <td>2018-01-26 23:49:16.411194</td>\n",
       "      <td>True</td>\n",
       "    </tr>\n",
       "    <tr>\n",
       "      <th>2</th>\n",
       "      <td>https://twitter.com/uber</td>\n",
       "      <td>https://twitter.com/uber</td>\n",
       "      <td>Twitter</td>\n",
       "      <td>2018-01-26 23:49:17.058138</td>\n",
       "      <td>True</td>\n",
       "    </tr>\n",
       "    <tr>\n",
       "      <th>3</th>\n",
       "      <td>https://www.linkedin.com/company/1815218</td>\n",
       "      <td>https://www.linkedin.com/company/1815218</td>\n",
       "      <td>LinkedIn</td>\n",
       "      <td>2018-01-26 23:49:17.249860</td>\n",
       "      <td>False</td>\n",
       "    </tr>\n",
       "    <tr>\n",
       "      <th>4</th>\n",
       "      <td>https://instagram.com/uber/</td>\n",
       "      <td>https://instagram.com/uber/</td>\n",
       "      <td>Instagram</td>\n",
       "      <td>2018-01-26 23:49:17.888144</td>\n",
       "      <td>True</td>\n",
       "    </tr>\n",
       "  </tbody>\n",
       "</table>\n",
       "</div>"
      ],
      "text/plain": [
       "                                              NewURL  \\\n",
       "0  https://microsoft.com/en-us/store/apps/uber/9w...   \n",
       "1                      https://www.facebook.com/uber   \n",
       "2                           https://twitter.com/uber   \n",
       "3           https://www.linkedin.com/company/1815218   \n",
       "4                        https://instagram.com/uber/   \n",
       "\n",
       "                                                 URL Web Description  \\\n",
       "0  https://microsoft.com/en-us/store/apps/uber/9w...                   \n",
       "1                      https://www.facebook.com/uber        Facebook   \n",
       "2                           https://twitter.com/uber         Twitter   \n",
       "3           https://www.linkedin.com/company/1815218        LinkedIn   \n",
       "4                        https://instagram.com/uber/       Instagram   \n",
       "\n",
       "                    Datetime  isValid  \n",
       "0 2018-01-26 23:49:15.965514     True  \n",
       "1 2018-01-26 23:49:16.411194     True  \n",
       "2 2018-01-26 23:49:17.058138     True  \n",
       "3 2018-01-26 23:49:17.249860    False  \n",
       "4 2018-01-26 23:49:17.888144     True  "
      ]
     },
     "execution_count": 19,
     "metadata": {},
     "output_type": "execute_result"
    }
   ],
   "source": [
    "URLExternal.head()"
   ]
  },
  {
   "cell_type": "code",
   "execution_count": 20,
   "metadata": {
    "collapsed": true
   },
   "outputs": [],
   "source": [
    "#Current path is fetched and data is stored in CSV file\n",
    "cur_path = os.path.dirname(os.getcwd())\n",
    "csv_path = cur_path + '/outcome/'\n",
    "URLExternal.to_csv(csv_path + 'LinkStatusForUberWeb.csv',header=True,mode='w')"
   ]
  }
 ],
 "metadata": {
  "kernelspec": {
   "display_name": "Python 3",
   "language": "python",
   "name": "python3"
  },
  "language_info": {
   "codemirror_mode": {
    "name": "ipython",
    "version": 3
   },
   "file_extension": ".py",
   "mimetype": "text/x-python",
   "name": "python",
   "nbconvert_exporter": "python",
   "pygments_lexer": "ipython3",
   "version": "3.6.3"
  }
 },
 "nbformat": 4,
 "nbformat_minor": 2
}
