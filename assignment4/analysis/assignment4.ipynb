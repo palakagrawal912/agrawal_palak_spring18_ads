{
 "cells": [
  {
   "cell_type": "markdown",
   "metadata": {},
   "source": [
    "## Data Preprocessing"
   ]
  },
  {
   "cell_type": "code",
   "execution_count": 1,
   "metadata": {},
   "outputs": [
    {
     "name": "stderr",
     "output_type": "stream",
     "text": [
      "Using TensorFlow backend.\n"
     ]
    }
   ],
   "source": [
    "# Importing the libraries\n",
    "\n",
    "import os\n",
    "import pandas as pd\n",
    "import numpy as np\n",
    "import seaborn as sns\n",
    "import matplotlib.pyplot as plt\n",
    "import csv\n",
    "from sklearn.preprocessing import MinMaxScaler\n",
    "%matplotlib inline\n",
    "\n",
    "# Importing the Keras libraries and packages\n",
    "from keras.models import Sequential\n",
    "from keras.layers import Dense\n",
    "from keras.layers import LSTM\n",
    "from keras.layers import Dropout"
   ]
  },
  {
   "cell_type": "code",
   "execution_count": 2,
   "metadata": {},
   "outputs": [
    {
     "name": "stdout",
     "output_type": "stream",
     "text": [
      "/Users/palakagrawal/Desktop/Courses/ADS/agrawal_palak_spring18_ads/assignment4\n"
     ]
    }
   ],
   "source": [
    "#Current path is fetched\n",
    "cur_path = os.path.dirname(os.getcwd())\n",
    "print(cur_path)\n",
    "file_path_train = cur_path + '/data/Stock_Price_GOOGLE_Train.csv'\n",
    "file_path_test = cur_path + '/data/Stock_Price_GOOGLE_Test.csv'"
   ]
  },
  {
   "cell_type": "code",
   "execution_count": 3,
   "metadata": {
    "collapsed": true
   },
   "outputs": [],
   "source": [
    "# Importing the training set\n",
    "google_stock_train_ds = pd.read_csv(file_path_train)\n",
    "training_set = google_stock_train_ds.iloc[:, 1:2].values"
   ]
  },
  {
   "cell_type": "code",
   "execution_count": 4,
   "metadata": {
    "collapsed": true
   },
   "outputs": [],
   "source": [
    "# Feature Scaling\n",
    "sc = MinMaxScaler(feature_range = (0, 1))\n",
    "training_set_scaled = sc.fit_transform(training_set)"
   ]
  },
  {
   "cell_type": "code",
   "execution_count": 5,
   "metadata": {
    "collapsed": true
   },
   "outputs": [],
   "source": [
    "# Creating a data structure with 60 timesteps and 1 output\n",
    "X_train = []\n",
    "y_train = []\n",
    "for i in range(60, 1258):\n",
    "    X_train.append(training_set_scaled[i-60:i, 0])\n",
    "    y_train.append(training_set_scaled[i, 0])\n",
    "X_train, y_train = np.array(X_train), np.array(y_train)"
   ]
  },
  {
   "cell_type": "code",
   "execution_count": 9,
   "metadata": {
    "collapsed": true
   },
   "outputs": [],
   "source": [
    "# Reshaping\n",
    "X_train = np.reshape(X_train, (X_train.shape[0], X_train.shape[1], 1)) #observation, timesteps and indicators"
   ]
  },
  {
   "cell_type": "markdown",
   "metadata": {},
   "source": [
    "## Part A Building RNN "
   ]
  },
  {
   "cell_type": "code",
   "execution_count": 13,
   "metadata": {
    "collapsed": true
   },
   "outputs": [],
   "source": [
    "# Initialising the RNN\n",
    "regressor = Sequential()"
   ]
  },
  {
   "cell_type": "code",
   "execution_count": 14,
   "metadata": {},
   "outputs": [],
   "source": [
    "# Adding the first LSTM layer and some Dropout regularisation\n",
    "regressor.add(LSTM(units = 50, return_sequences = True, input_shape = (X_train.shape[1], 1)))\n",
    "regressor.add(Dropout(0.2))\n",
    "\n",
    "# Adding a second LSTM layer and some Dropout regularisation\n",
    "regressor.add(LSTM(units = 50, return_sequences = True))\n",
    "regressor.add(Dropout(0.2))\n",
    "\n",
    "# Adding a third LSTM layer and some Dropout regularisation\n",
    "regressor.add(LSTM(units = 50, return_sequences = True))\n",
    "regressor.add(Dropout(0.2))\n",
    "\n",
    "# Adding a fourth LSTM layer and some Dropout regularisation\n",
    "regressor.add(LSTM(units = 50))\n",
    "regressor.add(Dropout(0.2))\n",
    "\n",
    "# Adding the output layer\n",
    "regressor.add(Dense(units = 1))"
   ]
  },
  {
   "cell_type": "code",
   "execution_count": 18,
   "metadata": {},
   "outputs": [
    {
     "name": "stdout",
     "output_type": "stream",
     "text": [
      "_________________________________________________________________\n",
      "Layer (type)                 Output Shape              Param #   \n",
      "=================================================================\n",
      "lstm_1 (LSTM)                (None, 60, 50)            10400     \n",
      "_________________________________________________________________\n",
      "dropout_1 (Dropout)          (None, 60, 50)            0         \n",
      "_________________________________________________________________\n",
      "lstm_2 (LSTM)                (None, 60, 50)            20200     \n",
      "_________________________________________________________________\n",
      "dropout_2 (Dropout)          (None, 60, 50)            0         \n",
      "_________________________________________________________________\n",
      "lstm_3 (LSTM)                (None, 60, 50)            20200     \n",
      "_________________________________________________________________\n",
      "dropout_3 (Dropout)          (None, 60, 50)            0         \n",
      "_________________________________________________________________\n",
      "lstm_4 (LSTM)                (None, 50)                20200     \n",
      "_________________________________________________________________\n",
      "dropout_4 (Dropout)          (None, 50)                0         \n",
      "_________________________________________________________________\n",
      "dense_1 (Dense)              (None, 1)                 51        \n",
      "=================================================================\n",
      "Total params: 71,051\n",
      "Trainable params: 71,051\n",
      "Non-trainable params: 0\n",
      "_________________________________________________________________\n"
     ]
    }
   ],
   "source": [
    "regressor.summary()"
   ]
  },
  {
   "cell_type": "code",
   "execution_count": 11,
   "metadata": {
    "collapsed": true
   },
   "outputs": [],
   "source": [
    "regressor.compile(optimizer = 'adam', loss = 'mean_squared_error')"
   ]
  },
  {
   "cell_type": "code",
   "execution_count": 12,
   "metadata": {},
   "outputs": [
    {
     "name": "stdout",
     "output_type": "stream",
     "text": [
      "Epoch 1/100\n",
      "1198/1198 [==============================] - 20s 17ms/step - loss: 0.0478\n",
      "Epoch 2/100\n",
      "1198/1198 [==============================] - 19s 16ms/step - loss: 0.0063\n",
      "Epoch 3/100\n",
      "1198/1198 [==============================] - 19s 16ms/step - loss: 0.0054\n",
      "Epoch 4/100\n",
      "1198/1198 [==============================] - 19s 16ms/step - loss: 0.0056\n",
      "Epoch 5/100\n",
      "1198/1198 [==============================] - 19s 16ms/step - loss: 0.0048\n",
      "Epoch 6/100\n",
      "1198/1198 [==============================] - 19s 16ms/step - loss: 0.0046\n",
      "Epoch 7/100\n",
      "1198/1198 [==============================] - 19s 16ms/step - loss: 0.0047\n",
      "Epoch 8/100\n",
      "1198/1198 [==============================] - 19s 16ms/step - loss: 0.0042\n",
      "Epoch 9/100\n",
      "1198/1198 [==============================] - 19s 16ms/step - loss: 0.0044\n",
      "Epoch 10/100\n",
      "1198/1198 [==============================] - 19s 16ms/step - loss: 0.0045\n",
      "Epoch 11/100\n",
      "1198/1198 [==============================] - 20s 16ms/step - loss: 0.0044\n",
      "Epoch 12/100\n",
      "1198/1198 [==============================] - 19s 16ms/step - loss: 0.0041\n",
      "Epoch 13/100\n",
      "1198/1198 [==============================] - 19s 16ms/step - loss: 0.0045\n",
      "Epoch 14/100\n",
      "1198/1198 [==============================] - 20s 16ms/step - loss: 0.0041\n",
      "Epoch 15/100\n",
      "1198/1198 [==============================] - 19s 16ms/step - loss: 0.0036\n",
      "Epoch 16/100\n",
      "1198/1198 [==============================] - 22s 18ms/step - loss: 0.0036\n",
      "Epoch 17/100\n",
      "1198/1198 [==============================] - 21s 18ms/step - loss: 0.0036\n",
      "Epoch 18/100\n",
      "1198/1198 [==============================] - 20s 17ms/step - loss: 0.0032\n",
      "Epoch 19/100\n",
      "1198/1198 [==============================] - 21s 18ms/step - loss: 0.0033\n",
      "Epoch 20/100\n",
      "1198/1198 [==============================] - 20s 16ms/step - loss: 0.0034\n",
      "Epoch 21/100\n",
      "1198/1198 [==============================] - 19s 16ms/step - loss: 0.0038\n",
      "Epoch 22/100\n",
      "1198/1198 [==============================] - 19s 16ms/step - loss: 0.0031\n",
      "Epoch 23/100\n",
      "1198/1198 [==============================] - 20s 16ms/step - loss: 0.0037\n",
      "Epoch 24/100\n",
      "1198/1198 [==============================] - 20s 16ms/step - loss: 0.0035\n",
      "Epoch 25/100\n",
      "1198/1198 [==============================] - 20s 17ms/step - loss: 0.0030\n",
      "Epoch 26/100\n",
      "1198/1198 [==============================] - 19s 16ms/step - loss: 0.0031\n",
      "Epoch 27/100\n",
      "1198/1198 [==============================] - 19s 16ms/step - loss: 0.0029\n",
      "Epoch 28/100\n",
      "1198/1198 [==============================] - 19s 16ms/step - loss: 0.0029\n",
      "Epoch 29/100\n",
      "1198/1198 [==============================] - 20s 17ms/step - loss: 0.0030\n",
      "Epoch 30/100\n",
      "1198/1198 [==============================] - 21s 17ms/step - loss: 0.0034\n",
      "Epoch 31/100\n",
      "1198/1198 [==============================] - 20s 17ms/step - loss: 0.0029\n",
      "Epoch 32/100\n",
      "1198/1198 [==============================] - 22s 18ms/step - loss: 0.0026\n",
      "Epoch 33/100\n",
      "1198/1198 [==============================] - 23s 19ms/step - loss: 0.0030\n",
      "Epoch 34/100\n",
      "1198/1198 [==============================] - 21s 17ms/step - loss: 0.0029\n",
      "Epoch 35/100\n",
      "1198/1198 [==============================] - 22s 19ms/step - loss: 0.0028\n",
      "Epoch 36/100\n",
      "1198/1198 [==============================] - 21s 17ms/step - loss: 0.0028\n",
      "Epoch 37/100\n",
      "1198/1198 [==============================] - 19s 16ms/step - loss: 0.0027\n",
      "Epoch 38/100\n",
      "1198/1198 [==============================] - 20s 16ms/step - loss: 0.0026\n",
      "Epoch 39/100\n",
      "1198/1198 [==============================] - 22s 18ms/step - loss: 0.0025\n",
      "Epoch 40/100\n",
      "1198/1198 [==============================] - 21s 18ms/step - loss: 0.0025\n",
      "Epoch 41/100\n",
      "1198/1198 [==============================] - 23s 19ms/step - loss: 0.0026\n",
      "Epoch 42/100\n",
      "1198/1198 [==============================] - 23s 19ms/step - loss: 0.0027\n",
      "Epoch 43/100\n",
      "1198/1198 [==============================] - 23s 19ms/step - loss: 0.0029\n",
      "Epoch 44/100\n",
      "1198/1198 [==============================] - 22s 19ms/step - loss: 0.0025\n",
      "Epoch 45/100\n",
      "1198/1198 [==============================] - 20s 16ms/step - loss: 0.0024\n",
      "Epoch 46/100\n",
      "1198/1198 [==============================] - 23s 19ms/step - loss: 0.0025\n",
      "Epoch 47/100\n",
      "1198/1198 [==============================] - 23s 19ms/step - loss: 0.0023\n",
      "Epoch 48/100\n",
      "1198/1198 [==============================] - 23s 19ms/step - loss: 0.0022\n",
      "Epoch 49/100\n",
      "1198/1198 [==============================] - 22s 18ms/step - loss: 0.0025\n",
      "Epoch 50/100\n",
      "1198/1198 [==============================] - 22s 18ms/step - loss: 0.0025\n",
      "Epoch 51/100\n",
      "1198/1198 [==============================] - 22s 18ms/step - loss: 0.0029\n",
      "Epoch 52/100\n",
      "1198/1198 [==============================] - 19s 16ms/step - loss: 0.0022\n",
      "Epoch 53/100\n",
      "1198/1198 [==============================] - 22s 18ms/step - loss: 0.0021\n",
      "Epoch 54/100\n",
      "1198/1198 [==============================] - 23s 19ms/step - loss: 0.0021\n",
      "Epoch 55/100\n",
      "1198/1198 [==============================] - 20s 17ms/step - loss: 0.0021\n",
      "Epoch 56/100\n",
      "1198/1198 [==============================] - 22s 19ms/step - loss: 0.0021\n",
      "Epoch 57/100\n",
      "1198/1198 [==============================] - 23s 19ms/step - loss: 0.0019\n",
      "Epoch 58/100\n",
      "1198/1198 [==============================] - 23s 19ms/step - loss: 0.0023\n",
      "Epoch 59/100\n",
      "1198/1198 [==============================] - 23s 19ms/step - loss: 0.0019\n",
      "Epoch 60/100\n",
      "1198/1198 [==============================] - 23s 19ms/step - loss: 0.0019\n",
      "Epoch 61/100\n",
      "1198/1198 [==============================] - 18s 15ms/step - loss: 0.0021\n",
      "Epoch 62/100\n",
      "1198/1198 [==============================] - 20s 16ms/step - loss: 0.0018\n",
      "Epoch 63/100\n",
      "1198/1198 [==============================] - 24s 20ms/step - loss: 0.0019\n",
      "Epoch 64/100\n",
      "1198/1198 [==============================] - 20s 17ms/step - loss: 0.0018\n",
      "Epoch 65/100\n",
      "1198/1198 [==============================] - 20s 17ms/step - loss: 0.0020\n",
      "Epoch 66/100\n",
      "1198/1198 [==============================] - 21s 17ms/step - loss: 0.0019\n",
      "Epoch 67/100\n",
      "1198/1198 [==============================] - 21s 17ms/step - loss: 0.0019\n",
      "Epoch 68/100\n",
      "1198/1198 [==============================] - 21s 17ms/step - loss: 0.0019\n",
      "Epoch 69/100\n",
      "1198/1198 [==============================] - 20s 17ms/step - loss: 0.0020\n",
      "Epoch 70/100\n",
      "1198/1198 [==============================] - 20s 17ms/step - loss: 0.0020\n",
      "Epoch 71/100\n",
      "1198/1198 [==============================] - 20s 17ms/step - loss: 0.0016\n",
      "Epoch 72/100\n",
      "1198/1198 [==============================] - 20s 17ms/step - loss: 0.0018\n",
      "Epoch 73/100\n",
      "1198/1198 [==============================] - 20s 17ms/step - loss: 0.0022\n",
      "Epoch 74/100\n",
      "1198/1198 [==============================] - 20s 16ms/step - loss: 0.0022\n",
      "Epoch 75/100\n",
      "1198/1198 [==============================] - 21s 18ms/step - loss: 0.0018\n",
      "Epoch 76/100\n",
      "1198/1198 [==============================] - 19s 16ms/step - loss: 0.0017\n",
      "Epoch 77/100\n",
      "1198/1198 [==============================] - 19s 16ms/step - loss: 0.0017\n",
      "Epoch 78/100\n",
      "1198/1198 [==============================] - 19s 16ms/step - loss: 0.0016\n",
      "Epoch 79/100\n",
      "1198/1198 [==============================] - 20s 16ms/step - loss: 0.0017\n",
      "Epoch 80/100\n",
      "1198/1198 [==============================] - 20s 17ms/step - loss: 0.0018\n",
      "Epoch 81/100\n",
      "1198/1198 [==============================] - 19s 16ms/step - loss: 0.0017\n",
      "Epoch 82/100\n",
      "1198/1198 [==============================] - 20s 17ms/step - loss: 0.0016\n",
      "Epoch 83/100\n",
      "1198/1198 [==============================] - 20s 17ms/step - loss: 0.0018\n",
      "Epoch 84/100\n",
      "1198/1198 [==============================] - 20s 16ms/step - loss: 0.0017\n",
      "Epoch 85/100\n",
      "1198/1198 [==============================] - 20s 17ms/step - loss: 0.0015\n",
      "Epoch 86/100\n",
      "1198/1198 [==============================] - 20s 17ms/step - loss: 0.0020\n",
      "Epoch 87/100\n",
      "1198/1198 [==============================] - 20s 16ms/step - loss: 0.0019\n",
      "Epoch 88/100\n",
      "1198/1198 [==============================] - 20s 17ms/step - loss: 0.0018\n",
      "Epoch 89/100\n",
      "1198/1198 [==============================] - 19s 16ms/step - loss: 0.0015\n",
      "Epoch 90/100\n",
      "1198/1198 [==============================] - 21s 17ms/step - loss: 0.0017\n",
      "Epoch 91/100\n",
      "1198/1198 [==============================] - 20s 17ms/step - loss: 0.0015\n",
      "Epoch 92/100\n",
      "1198/1198 [==============================] - 20s 17ms/step - loss: 0.0015\n",
      "Epoch 93/100\n",
      "1198/1198 [==============================] - 20s 17ms/step - loss: 0.0014\n",
      "Epoch 94/100\n",
      "1198/1198 [==============================] - 20s 17ms/step - loss: 0.0015\n",
      "Epoch 95/100\n",
      "1198/1198 [==============================] - 19s 16ms/step - loss: 0.0014\n",
      "Epoch 96/100\n",
      "1198/1198 [==============================] - 19s 16ms/step - loss: 0.0015\n",
      "Epoch 97/100\n",
      "1198/1198 [==============================] - 20s 16ms/step - loss: 0.0013\n",
      "Epoch 98/100\n",
      "1198/1198 [==============================] - 20s 16ms/step - loss: 0.0016\n",
      "Epoch 99/100\n",
      "1198/1198 [==============================] - 19s 16ms/step - loss: 0.0014\n",
      "Epoch 100/100\n",
      "1198/1198 [==============================] - 20s 16ms/step - loss: 0.0015\n"
     ]
    },
    {
     "data": {
      "text/plain": [
       "<keras.callbacks.History at 0x104ea4080>"
      ]
     },
     "execution_count": 12,
     "metadata": {},
     "output_type": "execute_result"
    }
   ],
   "source": [
    "# Fitting the RNN to the Training set\n",
    "regressor.fit(X_train, y_train, epochs = 100, batch_size = 32)"
   ]
  },
  {
   "cell_type": "markdown",
   "metadata": {},
   "source": [
    "## Making the predictions and visualising the results"
   ]
  },
  {
   "cell_type": "code",
   "execution_count": 14,
   "metadata": {
    "collapsed": true
   },
   "outputs": [],
   "source": [
    "# Getting the real stock price of 2017\n",
    "google_stock_test_ds = pd.read_csv(file_path_test)\n",
    "orig_stock_price = google_stock_test_ds.iloc[:, 1:2].values"
   ]
  },
  {
   "cell_type": "code",
   "execution_count": 16,
   "metadata": {
    "collapsed": true
   },
   "outputs": [],
   "source": [
    "# Getting the predicted stock price of 2017\n",
    "google_stock_ds = pd.concat((google_stock_train_ds['Open'], google_stock_test_ds['Open']), axis = 0)\n",
    "inputs = google_stock_ds[len(google_stock_ds) - len(google_stock_test_ds) - 60:].values\n",
    "inputs = inputs.reshape(-1,1)\n",
    "inputs = sc.transform(inputs)\n",
    "X_test = []\n",
    "for i in range(60, 80):\n",
    "    X_test.append(inputs[i-60:i, 0])\n",
    "X_test = np.array(X_test)\n",
    "X_test = np.reshape(X_test, (X_test.shape[0], X_test.shape[1], 1))\n",
    "predicted_stock_price = regressor.predict(X_test)\n",
    "predicted_stock_price = sc.inverse_transform(predicted_stock_price)\n"
   ]
  },
  {
   "cell_type": "code",
   "execution_count": 17,
   "metadata": {},
   "outputs": [
    {
     "data": {
      "image/png": "[encoded data removed]",
      "text/plain": [
       "<matplotlib.figure.Figure at 0x1a156a1748>"
      ]
     },
     "metadata": {},
     "output_type": "display_data"
    }
   ],
   "source": [
    "# Visualising the results\n",
    "plt.plot(orig_stock_price, color = 'green', label = 'Google Stock Price - Original')\n",
    "plt.plot(predicted_stock_price, color = 'red', label = 'Google Stock Price - Predicted')\n",
    "plt.title('Prediction of Google Stock Price')\n",
    "plt.xlabel('Time')\n",
    "plt.ylabel('Stock Price')\n",
    "plt.legend()\n",
    "plt.show()\n"
   ]
  },
  {
   "cell_type": "markdown",
   "metadata": {},
   "source": [
    "- Since it is a regression problem accuracy should not be used as a metric. Here I use loss as an metric."
   ]
  },
  {
   "cell_type": "markdown",
   "metadata": {
    "collapsed": true
   },
   "source": [
    "## Part B Activation function"
   ]
  },
  {
   "cell_type": "markdown",
   "metadata": {},
   "source": [
    "- The purpose of the activation function is to introduce non-linearity into the network\n",
    "- In turn, this allows you to model a response variable (aka target variable, class label, or score) that varies non-linearly with its explanatory variables\n",
    "- Non-linear means that the output cannot be reproduced from a linear combination of the inputs (which is not the same as output that renders to a straight line--the word for this is affine).\n",
    "- Another way to think of it: without a non-linear activation function in the network, a NN, no matter how many layers it had, would behave just like a single-layer perceptron, because summing these layers would give you just another linear function."
   ]
  },
  {
   "cell_type": "code",
   "execution_count": 18,
   "metadata": {
    "collapsed": true
   },
   "outputs": [],
   "source": [
    "# Initialising the RNN\n",
    "regressortan = Sequential()\n",
    "regressortan.add(LSTM(units = 50,activation='tanh', return_sequences = True, input_shape = (X_train.shape[1], 1)))\n",
    "regressortan.add(Dropout(0.2))\n",
    "\n",
    "# Adding a second LSTM layer and some Dropout regularisation\n",
    "regressortan.add(LSTM(units = 50,activation='tanh', return_sequences = True))\n",
    "regressortan.add(Dropout(0.2))\n",
    "\n",
    "# Adding a third LSTM layer and some Dropout regularisation\n",
    "regressortan.add(LSTM(units = 50, return_sequences = True))\n",
    "regressortan.add(Dropout(0.2))\n",
    "\n",
    "# Adding a fourth LSTM layer and some Dropout regularisation\n",
    "regressortan.add(LSTM(units = 50))\n",
    "regressortan.add(Dropout(0.2))\n",
    "\n",
    "regressortan.add(Dense(units = 1))"
   ]
  },
  {
   "cell_type": "code",
   "execution_count": 19,
   "metadata": {
    "collapsed": true
   },
   "outputs": [],
   "source": [
    "regressortan.compile(optimizer = 'adam', loss = 'mean_squared_error', metrics=['accuracy'])"
   ]
  },
  {
   "cell_type": "code",
   "execution_count": 20,
   "metadata": {},
   "outputs": [
    {
     "name": "stdout",
     "output_type": "stream",
     "text": [
      "Epoch 1/20\n",
      "1198/1198 [==============================] - 22s 19ms/step - loss: 0.0676 - acc: 8.3472e-04\n",
      "Epoch 2/20\n",
      "1198/1198 [==============================] - 20s 17ms/step - loss: 0.0074 - acc: 0.0017\n",
      "Epoch 3/20\n",
      "1198/1198 [==============================] - 20s 17ms/step - loss: 0.0060 - acc: 0.0017\n",
      "Epoch 4/20\n",
      "1198/1198 [==============================] - 20s 17ms/step - loss: 0.0048 - acc: 0.0017\n",
      "Epoch 5/20\n",
      "1198/1198 [==============================] - 20s 17ms/step - loss: 0.0052 - acc: 0.0017\n",
      "Epoch 6/20\n",
      "1198/1198 [==============================] - 20s 17ms/step - loss: 0.0046 - acc: 0.0017\n",
      "Epoch 7/20\n",
      "1198/1198 [==============================] - 21s 17ms/step - loss: 0.0046 - acc: 0.0017\n",
      "Epoch 8/20\n",
      "1198/1198 [==============================] - 20s 17ms/step - loss: 0.0047 - acc: 0.0017\n",
      "Epoch 9/20\n",
      "1198/1198 [==============================] - 21s 18ms/step - loss: 0.0046 - acc: 0.0017\n",
      "Epoch 10/20\n",
      "1198/1198 [==============================] - 20s 17ms/step - loss: 0.0043 - acc: 0.0017\n",
      "Epoch 11/20\n",
      "1198/1198 [==============================] - 21s 17ms/step - loss: 0.0046 - acc: 0.0017\n",
      "Epoch 12/20\n",
      "1198/1198 [==============================] - 25s 20ms/step - loss: 0.0040 - acc: 0.0017\n",
      "Epoch 13/20\n",
      "1198/1198 [==============================] - 21s 17ms/step - loss: 0.0041 - acc: 0.0017\n",
      "Epoch 14/20\n",
      "1198/1198 [==============================] - 21s 17ms/step - loss: 0.0039 - acc: 0.0017\n",
      "Epoch 15/20\n",
      "1198/1198 [==============================] - 20s 17ms/step - loss: 0.0040 - acc: 0.0017\n",
      "Epoch 16/20\n",
      "1198/1198 [==============================] - 22s 18ms/step - loss: 0.0039 - acc: 0.0017\n",
      "Epoch 17/20\n",
      "1198/1198 [==============================] - 20s 17ms/step - loss: 0.0036 - acc: 0.0017\n",
      "Epoch 18/20\n",
      "1198/1198 [==============================] - 22s 19ms/step - loss: 0.0037 - acc: 0.0017\n",
      "Epoch 19/20\n",
      "1198/1198 [==============================] - 21s 18ms/step - loss: 0.0034 - acc: 0.0017\n",
      "Epoch 20/20\n",
      "1198/1198 [==============================] - 21s 18ms/step - loss: 0.0036 - acc: 0.0017\n"
     ]
    }
   ],
   "source": [
    "# Fitting the RNN to the Training set\n",
    "tanh = regressortan.fit(X_train, y_train, epochs = 20, batch_size = 32)"
   ]
  },
  {
   "cell_type": "code",
   "execution_count": 21,
   "metadata": {},
   "outputs": [
    {
     "data": {
      "image/png": "[encoded data removed]",
      "text/plain": [
       "<matplotlib.figure.Figure at 0x1a27141fd0>"
      ]
     },
     "metadata": {},
     "output_type": "display_data"
    }
   ],
   "source": [
    "# summarize history for loss\n",
    "plt.plot(tanh.history['loss'])\n",
    "\n",
    "plt.title('Loss happened in Model')\n",
    "plt.ylabel('Loss')\n",
    "plt.xlabel('EPOCH')\n",
    "plt.legend(['Train', 'Test'], loc='upper left')\n",
    "plt.show()"
   ]
  },
  {
   "cell_type": "code",
   "execution_count": 22,
   "metadata": {
    "collapsed": true
   },
   "outputs": [],
   "source": [
    "# Initialising the RNN\n",
    "regressorrelu = Sequential()\n",
    "regressorrelu.add(LSTM(units = 50,activation='relu', return_sequences = True, input_shape = (X_train.shape[1], 1)))\n",
    "regressorrelu.add(Dropout(0.2))\n",
    "\n",
    "# Adding a second LSTM layer and some Dropout regularisation\n",
    "regressorrelu.add(LSTM(units = 50,activation='relu', return_sequences = True))\n",
    "regressorrelu.add(Dropout(0.2))\n",
    "\n",
    "# Adding a third LSTM layer and some Dropout regularisation\n",
    "regressorrelu.add(LSTM(units = 50, return_sequences = True))\n",
    "regressorrelu.add(Dropout(0.2))\n",
    "\n",
    "# Adding a fourth LSTM layer and some Dropout regularisation\n",
    "regressorrelu.add(LSTM(units = 50))\n",
    "regressorrelu.add(Dropout(0.2))\n",
    "\n",
    "regressorrelu.add(Dense(units = 1))"
   ]
  },
  {
   "cell_type": "code",
   "execution_count": 23,
   "metadata": {},
   "outputs": [
    {
     "name": "stdout",
     "output_type": "stream",
     "text": [
      "Epoch 1/20\n",
      "1198/1198 [==============================] - 23s 19ms/step - loss: 0.0394 - acc: 0.0017\n",
      "Epoch 2/20\n",
      "1198/1198 [==============================] - 21s 18ms/step - loss: 0.0064 - acc: 0.0017\n",
      "Epoch 3/20\n",
      "1198/1198 [==============================] - 21s 17ms/step - loss: 0.0056 - acc: 0.0017\n",
      "Epoch 4/20\n",
      "1198/1198 [==============================] - 21s 18ms/step - loss: 0.0047 - acc: 0.0017\n",
      "Epoch 5/20\n",
      "1198/1198 [==============================] - 22s 18ms/step - loss: 0.0052 - acc: 0.0017\n",
      "Epoch 6/20\n",
      "1198/1198 [==============================] - 21s 18ms/step - loss: 0.0055 - acc: 0.0017\n",
      "Epoch 7/20\n",
      "1198/1198 [==============================] - 21s 18ms/step - loss: 0.0045 - acc: 0.0017\n",
      "Epoch 8/20\n",
      "1198/1198 [==============================] - 21s 17ms/step - loss: 0.0040 - acc: 0.0017\n",
      "Epoch 9/20\n",
      "1198/1198 [==============================] - 21s 18ms/step - loss: 0.0050 - acc: 0.0017\n",
      "Epoch 10/20\n",
      "1198/1198 [==============================] - 21s 17ms/step - loss: 0.0042 - acc: 0.0017\n",
      "Epoch 11/20\n",
      "1198/1198 [==============================] - 20s 17ms/step - loss: 0.0039 - acc: 0.0017\n",
      "Epoch 12/20\n",
      "1198/1198 [==============================] - 20s 17ms/step - loss: 0.0045 - acc: 0.0017\n",
      "Epoch 13/20\n",
      "1198/1198 [==============================] - 21s 18ms/step - loss: 0.0040 - acc: 0.0017\n",
      "Epoch 14/20\n",
      "1198/1198 [==============================] - 20s 17ms/step - loss: 0.0040 - acc: 0.0017\n",
      "Epoch 15/20\n",
      "1198/1198 [==============================] - 21s 17ms/step - loss: 0.0042 - acc: 0.0017\n",
      "Epoch 16/20\n",
      "1198/1198 [==============================] - 21s 18ms/step - loss: 0.0036 - acc: 0.0017\n",
      "Epoch 17/20\n",
      "1198/1198 [==============================] - 20s 17ms/step - loss: 0.0036 - acc: 0.0017\n",
      "Epoch 18/20\n",
      "1198/1198 [==============================] - 20s 16ms/step - loss: 0.0036 - acc: 0.0017\n",
      "Epoch 19/20\n",
      "1198/1198 [==============================] - 20s 16ms/step - loss: 0.0036 - acc: 0.0017\n",
      "Epoch 20/20\n",
      "1198/1198 [==============================] - 20s 16ms/step - loss: 0.0033 - acc: 0.0017\n",
      "Epoch 1/20\n",
      "1198/1198 [==============================] - 22s 18ms/step - loss: 0.1148 - acc: 0.0017\n",
      "Epoch 2/20\n",
      "1198/1198 [==============================] - 21s 17ms/step - loss: 0.0855 - acc: 8.3472e-04\n",
      "Epoch 3/20\n",
      "1198/1198 [==============================] - 20s 17ms/step - loss: 0.0836 - acc: 8.3472e-04\n",
      "Epoch 4/20\n",
      "1198/1198 [==============================] - 21s 18ms/step - loss: 0.0799 - acc: 8.3472e-04\n",
      "Epoch 5/20\n",
      "1198/1198 [==============================] - 21s 18ms/step - loss: 0.0796 - acc: 8.3472e-04\n",
      "Epoch 6/20\n",
      "1198/1198 [==============================] - 21s 17ms/step - loss: 0.0801 - acc: 0.0017\n",
      "Epoch 7/20\n",
      "1198/1198 [==============================] - 22s 18ms/step - loss: 0.0777 - acc: 8.3472e-04\n",
      "Epoch 8/20\n",
      "1198/1198 [==============================] - 21s 17ms/step - loss: 0.0605 - acc: 0.0017\n",
      "Epoch 9/20\n",
      "1198/1198 [==============================] - 21s 18ms/step - loss: 0.0135 - acc: 0.0017\n",
      "Epoch 10/20\n",
      "1198/1198 [==============================] - 23s 19ms/step - loss: 0.0105 - acc: 0.0017\n",
      "Epoch 11/20\n",
      "1198/1198 [==============================] - 21s 18ms/step - loss: 0.0079 - acc: 0.0017\n",
      "Epoch 12/20\n",
      "1198/1198 [==============================] - 20s 17ms/step - loss: 0.0073 - acc: 0.0017\n",
      "Epoch 13/20\n",
      "1198/1198 [==============================] - 20s 16ms/step - loss: 0.0069 - acc: 0.0017\n",
      "Epoch 14/20\n",
      "1198/1198 [==============================] - 20s 17ms/step - loss: 0.0077 - acc: 0.0017\n",
      "Epoch 15/20\n",
      "1198/1198 [==============================] - 20s 16ms/step - loss: 0.0069 - acc: 0.0017\n",
      "Epoch 16/20\n",
      "1198/1198 [==============================] - 20s 17ms/step - loss: 0.0065 - acc: 0.0017\n",
      "Epoch 17/20\n",
      "1198/1198 [==============================] - 20s 17ms/step - loss: 0.0074 - acc: 0.0017\n",
      "Epoch 18/20\n",
      "1198/1198 [==============================] - 19s 16ms/step - loss: 0.0063 - acc: 0.0017\n",
      "Epoch 19/20\n",
      "1198/1198 [==============================] - 20s 17ms/step - loss: 0.0063 - acc: 0.0017\n",
      "Epoch 20/20\n",
      "1198/1198 [==============================] - 20s 17ms/step - loss: 0.0064 - acc: 0.0017\n",
      "Epoch 1/20\n",
      "1198/1198 [==============================] - 21s 18ms/step - loss: 0.0512 - acc: 0.0017\n",
      "Epoch 2/20\n",
      "1198/1198 [==============================] - 20s 17ms/step - loss: 0.0070 - acc: 0.0017\n",
      "Epoch 3/20\n",
      "1198/1198 [==============================] - 20s 16ms/step - loss: 0.0056 - acc: 0.0017\n",
      "Epoch 4/20\n",
      "1198/1198 [==============================] - 19s 16ms/step - loss: 0.0044 - acc: 0.0017\n",
      "Epoch 5/20\n",
      "1198/1198 [==============================] - 20s 16ms/step - loss: 0.0056 - acc: 0.0017\n",
      "Epoch 6/20\n",
      "1198/1198 [==============================] - 20s 16ms/step - loss: 0.0049 - acc: 0.0017\n",
      "Epoch 7/20\n",
      "1198/1198 [==============================] - 20s 16ms/step - loss: 0.0044 - acc: 0.0017\n",
      "Epoch 8/20\n",
      "1198/1198 [==============================] - 20s 17ms/step - loss: 0.0043 - acc: 0.0017\n",
      "Epoch 9/20\n",
      "1198/1198 [==============================] - 19s 16ms/step - loss: 0.0046 - acc: 0.0017\n",
      "Epoch 10/20\n",
      "1198/1198 [==============================] - 19s 16ms/step - loss: 0.0044 - acc: 0.0017\n",
      "Epoch 11/20\n",
      "1198/1198 [==============================] - 19s 16ms/step - loss: 0.0052 - acc: 0.0017\n",
      "Epoch 12/20\n",
      "1198/1198 [==============================] - 19s 16ms/step - loss: 0.0048 - acc: 0.0017\n",
      "Epoch 13/20\n",
      "1198/1198 [==============================] - 19s 16ms/step - loss: 0.0042 - acc: 0.0017\n",
      "Epoch 14/20\n",
      "1198/1198 [==============================] - 20s 16ms/step - loss: 0.0039 - acc: 0.0017\n",
      "Epoch 15/20\n",
      "1198/1198 [==============================] - 19s 16ms/step - loss: 0.0040 - acc: 0.0017\n",
      "Epoch 16/20\n",
      "1198/1198 [==============================] - 19s 16ms/step - loss: 0.0039 - acc: 0.0017\n",
      "Epoch 17/20\n",
      "1198/1198 [==============================] - 19s 16ms/step - loss: 0.0035 - acc: 0.0017\n",
      "Epoch 18/20\n",
      "1198/1198 [==============================] - 19s 16ms/step - loss: 0.0040 - acc: 0.0017\n",
      "Epoch 19/20\n",
      "1198/1198 [==============================] - 19s 16ms/step - loss: 0.0037 - acc: 0.0017\n",
      "Epoch 20/20\n",
      "1198/1198 [==============================] - 19s 16ms/step - loss: 0.0035 - acc: 0.0017\n",
      "Epoch 1/20\n",
      "1198/1198 [==============================] - 21s 18ms/step - loss: 0.0989 - acc: 0.0017\n",
      "Epoch 2/20\n",
      "1198/1198 [==============================] - 20s 17ms/step - loss: 0.0100 - acc: 0.0017\n",
      "Epoch 3/20\n",
      "1198/1198 [==============================] - 19s 16ms/step - loss: 0.0068 - acc: 0.0017\n",
      "Epoch 4/20\n",
      "1198/1198 [==============================] - 20s 16ms/step - loss: 0.0065 - acc: 0.0017\n",
      "Epoch 5/20\n",
      "1198/1198 [==============================] - 19s 16ms/step - loss: 0.0051 - acc: 0.0017\n",
      "Epoch 6/20\n",
      "1198/1198 [==============================] - 20s 16ms/step - loss: 0.0048 - acc: 0.0017\n",
      "Epoch 7/20\n",
      "1198/1198 [==============================] - 21s 17ms/step - loss: 0.0049 - acc: 0.0017\n",
      "Epoch 8/20\n",
      "1198/1198 [==============================] - 21s 18ms/step - loss: 0.0049 - acc: 0.0017\n",
      "Epoch 9/20\n",
      "1198/1198 [==============================] - 20s 16ms/step - loss: 0.0051 - acc: 0.0017\n",
      "Epoch 10/20\n",
      "1198/1198 [==============================] - 20s 16ms/step - loss: 0.0041 - acc: 0.0017\n",
      "Epoch 11/20\n",
      "1198/1198 [==============================] - 20s 17ms/step - loss: 0.0043 - acc: 0.0017\n",
      "Epoch 12/20\n",
      "1198/1198 [==============================] - 20s 17ms/step - loss: 0.0041 - acc: 0.0017\n",
      "Epoch 13/20\n",
      "1198/1198 [==============================] - 21s 17ms/step - loss: 0.0041 - acc: 0.0017\n",
      "Epoch 14/20\n",
      "1198/1198 [==============================] - 20s 17ms/step - loss: 0.0043 - acc: 0.0017\n",
      "Epoch 15/20\n",
      "1198/1198 [==============================] - 20s 17ms/step - loss: 0.0049 - acc: 0.0017\n",
      "Epoch 16/20\n",
      "1198/1198 [==============================] - 20s 17ms/step - loss: 0.0042 - acc: 0.0017\n",
      "Epoch 17/20\n",
      "1198/1198 [==============================] - 20s 16ms/step - loss: 0.0042 - acc: 0.0017\n",
      "Epoch 18/20\n",
      "1198/1198 [==============================] - 21s 18ms/step - loss: 0.0038 - acc: 0.0017\n",
      "Epoch 19/20\n",
      "1198/1198 [==============================] - 20s 17ms/step - loss: 0.0045 - acc: 0.0017\n",
      "Epoch 20/20\n",
      "1198/1198 [==============================] - 19s 16ms/step - loss: 0.0037 - acc: 0.0017\n"
     ]
    },
    {
     "data": {
      "text/plain": [
       "<matplotlib.legend.Legend at 0x1a2761e978>"
      ]
     },
     "execution_count": 23,
     "metadata": {},
     "output_type": "execute_result"
    },
    {
     "data": {
      "image/png": "[encoded data removed]",
      "text/plain": [
       "<matplotlib.figure.Figure at 0x1a282b8eb8>"
      ]
     },
     "metadata": {},
     "output_type": "display_data"
    }
   ],
   "source": [
    "epochs = 20\n",
    "\n",
    "for activation in [None, 'sigmoid', 'tanh', 'relu']:\n",
    "    model = Sequential()\n",
    "    model.add(LSTM(units = 50,activation=activation, return_sequences = True, input_shape = (X_train.shape[1], 1)))\n",
    "    model.add(Dropout(0.2))\n",
    "    model.add(LSTM(units = 50,activation=activation, return_sequences = True))\n",
    "    model.add(Dropout(0.2))\n",
    "    model.add(LSTM(units = 50,activation=activation, return_sequences = True))\n",
    "    model.add(Dropout(0.2))\n",
    "    model.add(LSTM(units = 50))\n",
    "    model.add(Dropout(0.2))\n",
    "    model.add(Dense(units = 1))\n",
    "    model.compile(loss='mean_squared_error',\n",
    "              optimizer='adam',\n",
    "              metrics=['accuracy'])    \n",
    "    history = model.fit(X_train, y_train,\n",
    "                    batch_size=32,\n",
    "                    epochs=epochs)\n",
    "    \n",
    "    plt.plot(history.history['loss'])\n",
    "    \n",
    "plt.title('Loss in Model')\n",
    "plt.ylabel('Loss')\n",
    "plt.xlabel('EPOCH')\n",
    "plt.legend(['None', 'Sigmoid', 'Tanh', 'ReLU'], loc='upper left')"
   ]
  },
  {
   "cell_type": "markdown",
   "metadata": {},
   "source": [
    "## Part C Cost function"
   ]
  },
  {
   "cell_type": "markdown",
   "metadata": {},
   "source": [
    "- Log loss has the nice property that it is a differentiable function. \n",
    "- Accuracy might be more important and is definitely more interpretable but is not directly usable in the training of the network due to the backpropagation algorithm that requires the loss function to be differentiable.\n",
    "- When your preferred loss is not directly optimizable (like the accuracy) you use a loss function that behaves similarly to proxy the true metric.\n",
    "- In case of binary classification you would use a sigmoid at the end and a log loss to approximate accuracy. They are highly correlated."
   ]
  },
  {
   "cell_type": "code",
   "execution_count": 24,
   "metadata": {},
   "outputs": [
    {
     "name": "stdout",
     "output_type": "stream",
     "text": [
      "Epoch 1/20\n",
      "1198/1198 [==============================] - 23s 19ms/step - loss: 0.0524\n",
      "Epoch 2/20\n",
      "1198/1198 [==============================] - 18s 15ms/step - loss: 0.0040\n",
      "Epoch 3/20\n",
      "1198/1198 [==============================] - 19s 16ms/step - loss: 0.0028\n",
      "Epoch 4/20\n",
      "1198/1198 [==============================] - 20s 17ms/step - loss: 0.0023\n",
      "Epoch 5/20\n",
      "1198/1198 [==============================] - 19s 16ms/step - loss: 0.0026\n",
      "Epoch 6/20\n",
      "1198/1198 [==============================] - 18s 15ms/step - loss: 0.0021\n",
      "Epoch 7/20\n",
      "1198/1198 [==============================] - 20s 16ms/step - loss: 0.0020\n",
      "Epoch 8/20\n",
      "1198/1198 [==============================] - 19s 16ms/step - loss: 0.0020\n",
      "Epoch 9/20\n",
      "1198/1198 [==============================] - 19s 16ms/step - loss: 0.0020\n",
      "Epoch 10/20\n",
      "1198/1198 [==============================] - 18s 15ms/step - loss: 0.0019\n",
      "Epoch 11/20\n",
      "1198/1198 [==============================] - 18s 15ms/step - loss: 0.0022\n",
      "Epoch 12/20\n",
      "1198/1198 [==============================] - 20s 16ms/step - loss: 0.0017\n",
      "Epoch 13/20\n",
      "1198/1198 [==============================] - 19s 16ms/step - loss: 0.0018\n",
      "Epoch 14/20\n",
      "1198/1198 [==============================] - 19s 16ms/step - loss: 0.0017\n",
      "Epoch 15/20\n",
      "1198/1198 [==============================] - 19s 16ms/step - loss: 0.0016\n",
      "Epoch 16/20\n",
      "1198/1198 [==============================] - 18s 15ms/step - loss: 0.0016\n",
      "Epoch 17/20\n",
      "1198/1198 [==============================] - 18s 15ms/step - loss: 0.0017\n",
      "Epoch 18/20\n",
      "1198/1198 [==============================] - 18s 15ms/step - loss: 0.0020\n",
      "Epoch 19/20\n",
      "1198/1198 [==============================] - 19s 16ms/step - loss: 0.0017\n",
      "Epoch 20/20\n",
      "1198/1198 [==============================] - 19s 16ms/step - loss: 0.0016\n",
      "Epoch 1/20\n",
      "1198/1198 [==============================] - 22s 18ms/step - loss: 0.0710\n",
      "Epoch 2/20\n",
      "1198/1198 [==============================] - 19s 16ms/step - loss: 0.0073\n",
      "Epoch 3/20\n",
      "1198/1198 [==============================] - 19s 16ms/step - loss: 0.0062\n",
      "Epoch 4/20\n",
      "1198/1198 [==============================] - 20s 17ms/step - loss: 0.0053\n",
      "Epoch 5/20\n",
      "1198/1198 [==============================] - 20s 16ms/step - loss: 0.0053\n",
      "Epoch 6/20\n",
      "1198/1198 [==============================] - 19s 16ms/step - loss: 0.0049\n",
      "Epoch 7/20\n",
      "1198/1198 [==============================] - 19s 16ms/step - loss: 0.0044\n",
      "Epoch 8/20\n",
      "1198/1198 [==============================] - 20s 17ms/step - loss: 0.0046\n",
      "Epoch 9/20\n",
      "1198/1198 [==============================] - 20s 17ms/step - loss: 0.0041\n",
      "Epoch 10/20\n",
      "1198/1198 [==============================] - 19s 16ms/step - loss: 0.0051\n",
      "Epoch 11/20\n",
      "1198/1198 [==============================] - 19s 16ms/step - loss: 0.0044\n",
      "Epoch 12/20\n",
      "1198/1198 [==============================] - 18s 15ms/step - loss: 0.0042\n",
      "Epoch 13/20\n",
      "1198/1198 [==============================] - 19s 16ms/step - loss: 0.0045\n",
      "Epoch 14/20\n",
      "1198/1198 [==============================] - 19s 16ms/step - loss: 0.0043\n",
      "Epoch 15/20\n",
      "1198/1198 [==============================] - 20s 16ms/step - loss: 0.0038\n",
      "Epoch 16/20\n",
      "1198/1198 [==============================] - 19s 16ms/step - loss: 0.0043\n",
      "Epoch 17/20\n",
      "1198/1198 [==============================] - 20s 17ms/step - loss: 0.0041\n",
      "Epoch 18/20\n",
      "1198/1198 [==============================] - 19s 16ms/step - loss: 0.0037\n",
      "Epoch 19/20\n",
      "1198/1198 [==============================] - 19s 16ms/step - loss: 0.0043\n",
      "Epoch 20/20\n",
      "1198/1198 [==============================] - 20s 17ms/step - loss: 0.0037\n",
      "Epoch 1/20\n",
      "1198/1198 [==============================] - 24s 20ms/step - loss: 0.2358\n",
      "Epoch 2/20\n",
      "1198/1198 [==============================] - 19s 16ms/step - loss: 0.0707\n",
      "Epoch 3/20\n",
      "1198/1198 [==============================] - 20s 17ms/step - loss: 0.0634\n",
      "Epoch 4/20\n",
      "1198/1198 [==============================] - 19s 16ms/step - loss: 0.0593\n",
      "Epoch 5/20\n",
      "1198/1198 [==============================] - 20s 17ms/step - loss: 0.0573\n",
      "Epoch 6/20\n",
      "1198/1198 [==============================] - 20s 17ms/step - loss: 0.0526\n",
      "Epoch 7/20\n",
      "1198/1198 [==============================] - 19s 16ms/step - loss: 0.0529\n",
      "Epoch 8/20\n",
      "1198/1198 [==============================] - 19s 16ms/step - loss: 0.0520\n",
      "Epoch 9/20\n",
      "1198/1198 [==============================] - 18s 15ms/step - loss: 0.0523\n",
      "Epoch 10/20\n",
      "1198/1198 [==============================] - 18s 15ms/step - loss: 0.0589\n",
      "Epoch 11/20\n",
      "1198/1198 [==============================] - 18s 15ms/step - loss: 0.0512\n",
      "Epoch 12/20\n",
      "1198/1198 [==============================] - 19s 16ms/step - loss: 0.0525\n",
      "Epoch 13/20\n",
      "1198/1198 [==============================] - 18s 15ms/step - loss: 0.0498\n",
      "Epoch 14/20\n",
      "1198/1198 [==============================] - 18s 15ms/step - loss: 0.0452\n",
      "Epoch 15/20\n",
      "1198/1198 [==============================] - 18s 15ms/step - loss: 0.0476\n",
      "Epoch 16/20\n",
      "1198/1198 [==============================] - 18s 15ms/step - loss: 0.0468\n",
      "Epoch 17/20\n",
      "1198/1198 [==============================] - 18s 15ms/step - loss: 0.0458\n",
      "Epoch 18/20\n",
      "1198/1198 [==============================] - 18s 15ms/step - loss: 0.0497\n",
      "Epoch 19/20\n",
      "1198/1198 [==============================] - 18s 15ms/step - loss: 0.0444\n",
      "Epoch 20/20\n",
      "1198/1198 [==============================] - 18s 15ms/step - loss: 0.0420\n",
      "Epoch 1/20\n",
      "1198/1198 [==============================] - 22s 18ms/step - loss: 51826.1968\n",
      "Epoch 2/20\n",
      "1198/1198 [==============================] - 18s 15ms/step - loss: 6896.6775\n",
      "Epoch 3/20\n",
      "1198/1198 [==============================] - 19s 16ms/step - loss: 36719.1946\n",
      "Epoch 4/20\n",
      "1198/1198 [==============================] - 18s 15ms/step - loss: 19990.0720\n",
      "Epoch 5/20\n",
      "1198/1198 [==============================] - 18s 15ms/step - loss: 24557.0070\n",
      "Epoch 6/20\n",
      "1198/1198 [==============================] - 18s 15ms/step - loss: 556.6701\n",
      "Epoch 7/20\n",
      "1198/1198 [==============================] - 18s 15ms/step - loss: 42890.0524\n",
      "Epoch 8/20\n",
      "1198/1198 [==============================] - 18s 15ms/step - loss: 15285.1347\n",
      "Epoch 9/20\n",
      "1198/1198 [==============================] - 18s 15ms/step - loss: 4893.2713\n",
      "Epoch 10/20\n",
      "1198/1198 [==============================] - 18s 15ms/step - loss: 8858.3411\n",
      "Epoch 11/20\n",
      "1198/1198 [==============================] - 18s 15ms/step - loss: 23686.1501\n",
      "Epoch 12/20\n",
      "1198/1198 [==============================] - 18s 15ms/step - loss: 17195.1455\n",
      "Epoch 13/20\n",
      "1198/1198 [==============================] - 18s 15ms/step - loss: 12459.2851\n",
      "Epoch 14/20\n",
      "1198/1198 [==============================] - 18s 15ms/step - loss: 18143.1734\n",
      "Epoch 15/20\n",
      "1198/1198 [==============================] - 18s 15ms/step - loss: 25002.8085\n",
      "Epoch 16/20\n",
      "1198/1198 [==============================] - 18s 15ms/step - loss: 4821.6251\n",
      "Epoch 17/20\n",
      "1198/1198 [==============================] - 18s 15ms/step - loss: 18240.5609\n",
      "Epoch 18/20\n",
      "1198/1198 [==============================] - 18s 15ms/step - loss: 8797.8329\n",
      "Epoch 19/20\n",
      "1198/1198 [==============================] - 18s 15ms/step - loss: 12622.0232\n",
      "Epoch 20/20\n",
      "1198/1198 [==============================] - 18s 15ms/step - loss: 13939.6847\n"
     ]
    },
    {
     "data": {
      "text/plain": [
       "<matplotlib.legend.Legend at 0x1a31ed0fd0>"
      ]
     },
     "execution_count": 24,
     "metadata": {},
     "output_type": "execute_result"
    },
    {
     "data": {
      "image/png": "[encoded data removed]",
      "text/plain": [
       "<matplotlib.figure.Figure at 0x1a32549cc0>"
      ]
     },
     "metadata": {},
     "output_type": "display_data"
    }
   ],
   "source": [
    "epochs = 20\n",
    "\n",
    "for cost in ['mean_squared_logarithmic_error', 'mean_squared_error', 'mean_absolute_error', 'mean_absolute_percentage_error']:\n",
    "    model = Sequential()\n",
    "    model.add(LSTM(units = 50,activation='relu', return_sequences = True, input_shape = (X_train.shape[1], 1)))\n",
    "    model.add(Dropout(0.2))\n",
    "    model.add(LSTM(units = 50,activation='relu', return_sequences = True))\n",
    "    model.add(Dropout(0.2))\n",
    "    model.add(LSTM(units = 50,activation='relu', return_sequences = True))\n",
    "    model.add(Dropout(0.2))\n",
    "    model.add(LSTM(units = 50))\n",
    "    model.add(Dropout(0.2))\n",
    "    model.add(Dense(units = 1))\n",
    "    model.compile(loss=cost,\n",
    "              optimizer='adam')    \n",
    "    history = model.fit(X_train, y_train,\n",
    "                    batch_size=32,\n",
    "                    epochs=epochs)\n",
    "    \n",
    "    plt.plot(history.history['loss'])\n",
    "    \n",
    "plt.title('Loss in Model')\n",
    "plt.ylabel('Loss')\n",
    "plt.xlabel('EPOCH')\n",
    "plt.legend(['Mean Squared Logarithmic error', 'Mean Squared error', 'Mean Absolute error', 'Mean Absolute Percentage error'], loc='upper left')"
   ]
  },
  {
   "cell_type": "markdown",
   "metadata": {},
   "source": [
    "## Part D Epochs"
   ]
  },
  {
   "cell_type": "markdown",
   "metadata": {},
   "source": [
    "- The batch size defines the gradient and how often to update weights. An epoch is the entire training data exposed to the network, batch-by-batch.\n",
    "- Small batch sizes with large epoch size and a large number of training epochs are common in modern deep learning implementations.\n",
    "- This may or may not hold with your problem. Gather evidence and see.\n",
    "- Try batch size equal to training data size, memory depending (batch learning).\n",
    "- Try a batch size of one (online learning).\n",
    "- Try a grid search of different mini-batch sizes (8, 16, 32, …).\n",
    "- Try training for a few epochs and for a heck of a lot of epochs.\n",
    "- Consider a near infinite number of epochs and setup check-pointing to capture the best performing model seen so far, see more on this further down.\n",
    "- Some network architectures are more sensitive than others to batch size. I see Multilayer Perceptrons as often robust to batch size, whereas LSTM and CNNs quite sensitive, but that is just anecdotal."
   ]
  },
  {
   "cell_type": "code",
   "execution_count": 25,
   "metadata": {},
   "outputs": [
    {
     "name": "stdout",
     "output_type": "stream",
     "text": [
      "Epoch 1/10\n",
      "1198/1198 [==============================] - 25s 21ms/step - loss: 0.0867 - acc: 8.3472e-04\n",
      "Epoch 2/10\n",
      "1198/1198 [==============================] - 24s 20ms/step - loss: 0.0090 - acc: 0.0017\n",
      "Epoch 3/10\n",
      "1198/1198 [==============================] - 23s 19ms/step - loss: 0.0066 - acc: 0.0017\n",
      "Epoch 4/10\n",
      "1198/1198 [==============================] - 24s 20ms/step - loss: 0.0063 - acc: 0.0017\n",
      "Epoch 5/10\n",
      "1198/1198 [==============================] - 23s 19ms/step - loss: 0.0065 - acc: 0.0017\n",
      "Epoch 6/10\n",
      "1198/1198 [==============================] - 22s 19ms/step - loss: 0.0059 - acc: 0.0017\n",
      "Epoch 7/10\n",
      "1198/1198 [==============================] - 23s 19ms/step - loss: 0.0056 - acc: 0.0017\n",
      "Epoch 8/10\n",
      "1198/1198 [==============================] - 21s 18ms/step - loss: 0.0059 - acc: 0.0017\n",
      "Epoch 9/10\n",
      "1198/1198 [==============================] - 20s 16ms/step - loss: 0.0052 - acc: 0.0017\n",
      "Epoch 10/10\n",
      "1198/1198 [==============================] - 20s 17ms/step - loss: 0.0049 - acc: 0.0017\n",
      "Epoch 1/20\n",
      "1198/1198 [==============================] - 25s 21ms/step - loss: 0.0913 - acc: 8.3472e-04\n",
      "Epoch 2/20\n",
      "1198/1198 [==============================] - 21s 17ms/step - loss: 0.0078 - acc: 0.0017\n",
      "Epoch 3/20\n",
      "1198/1198 [==============================] - 20s 17ms/step - loss: 0.0066 - acc: 0.0017\n",
      "Epoch 4/20\n",
      "1198/1198 [==============================] - 20s 16ms/step - loss: 0.0064 - acc: 0.0017\n",
      "Epoch 5/20\n",
      "1198/1198 [==============================] - 19s 16ms/step - loss: 0.0048 - acc: 0.0017\n",
      "Epoch 6/20\n",
      "1198/1198 [==============================] - 20s 17ms/step - loss: 0.0054 - acc: 0.0017\n",
      "Epoch 7/20\n",
      "1198/1198 [==============================] - 20s 17ms/step - loss: 0.0045 - acc: 0.0017\n",
      "Epoch 8/20\n",
      "1198/1198 [==============================] - 19s 16ms/step - loss: 0.0044 - acc: 0.0017\n",
      "Epoch 9/20\n",
      "1198/1198 [==============================] - 19s 16ms/step - loss: 0.0047 - acc: 0.0017\n",
      "Epoch 10/20\n",
      "1198/1198 [==============================] - 19s 16ms/step - loss: 0.0044 - acc: 0.0017\n",
      "Epoch 11/20\n",
      "1198/1198 [==============================] - 19s 16ms/step - loss: 0.0044 - acc: 0.0017\n",
      "Epoch 12/20\n",
      "1198/1198 [==============================] - 20s 17ms/step - loss: 0.0047 - acc: 0.0017\n",
      "Epoch 13/20\n",
      "1198/1198 [==============================] - 20s 17ms/step - loss: 0.0044 - acc: 0.0017\n",
      "Epoch 14/20\n",
      "1198/1198 [==============================] - 21s 18ms/step - loss: 0.0039 - acc: 0.0017\n",
      "Epoch 15/20\n",
      "1198/1198 [==============================] - 21s 17ms/step - loss: 0.0048 - acc: 0.0017\n",
      "Epoch 16/20\n",
      "1198/1198 [==============================] - 20s 17ms/step - loss: 0.0040 - acc: 0.0017\n",
      "Epoch 17/20\n",
      "1198/1198 [==============================] - 21s 18ms/step - loss: 0.0044 - acc: 0.0017\n",
      "Epoch 18/20\n",
      "1198/1198 [==============================] - 21s 17ms/step - loss: 0.0040 - acc: 0.0017\n",
      "Epoch 19/20\n",
      "1198/1198 [==============================] - 19s 16ms/step - loss: 0.0040 - acc: 0.0017\n",
      "Epoch 20/20\n",
      "1198/1198 [==============================] - 20s 16ms/step - loss: 0.0040 - acc: 0.0017\n",
      "Epoch 1/30\n",
      "1198/1198 [==============================] - 25s 20ms/step - loss: 0.0766 - acc: 8.3472e-04\n",
      "Epoch 2/30\n",
      "1198/1198 [==============================] - 19s 16ms/step - loss: 0.0085 - acc: 0.0017\n",
      "Epoch 3/30\n",
      "1198/1198 [==============================] - 20s 16ms/step - loss: 0.0066 - acc: 0.0017\n",
      "Epoch 4/30\n",
      "1198/1198 [==============================] - 20s 16ms/step - loss: 0.0067 - acc: 0.0017\n",
      "Epoch 5/30\n",
      "1198/1198 [==============================] - 20s 17ms/step - loss: 0.0061 - acc: 0.0017\n",
      "Epoch 6/30\n",
      "1198/1198 [==============================] - 20s 16ms/step - loss: 0.0057 - acc: 0.0017\n",
      "Epoch 7/30\n",
      "1198/1198 [==============================] - 20s 17ms/step - loss: 0.0054 - acc: 0.0017\n",
      "Epoch 8/30\n",
      "1198/1198 [==============================] - 23s 19ms/step - loss: 0.0051 - acc: 0.0017\n",
      "Epoch 9/30\n",
      "1198/1198 [==============================] - 23s 20ms/step - loss: 0.0047 - acc: 0.0017\n",
      "Epoch 10/30\n",
      "1198/1198 [==============================] - 21s 18ms/step - loss: 0.0046 - acc: 0.0017\n",
      "Epoch 11/30\n",
      "1198/1198 [==============================] - 23s 19ms/step - loss: 0.0044 - acc: 0.0017\n",
      "Epoch 12/30\n",
      "1198/1198 [==============================] - 22s 18ms/step - loss: 0.0044 - acc: 0.0017\n",
      "Epoch 13/30\n",
      "1198/1198 [==============================] - 23s 19ms/step - loss: 0.0040 - acc: 0.0017\n",
      "Epoch 14/30\n",
      "1198/1198 [==============================] - 22s 19ms/step - loss: 0.0043 - acc: 0.0017\n",
      "Epoch 15/30\n",
      "1198/1198 [==============================] - 22s 18ms/step - loss: 0.0044 - acc: 0.0017\n",
      "Epoch 16/30\n",
      "1198/1198 [==============================] - 20s 17ms/step - loss: 0.0040 - acc: 0.0017\n",
      "Epoch 17/30\n",
      "1198/1198 [==============================] - 20s 17ms/step - loss: 0.0037 - acc: 0.0017\n",
      "Epoch 18/30\n",
      "1198/1198 [==============================] - 20s 16ms/step - loss: 0.0039 - acc: 0.0017\n",
      "Epoch 19/30\n",
      "1198/1198 [==============================] - 20s 16ms/step - loss: 0.0042 - acc: 0.0017\n",
      "Epoch 20/30\n",
      "1198/1198 [==============================] - 19s 16ms/step - loss: 0.0035 - acc: 0.0017\n",
      "Epoch 21/30\n",
      "1198/1198 [==============================] - 20s 17ms/step - loss: 0.0035 - acc: 0.0017\n",
      "Epoch 22/30\n",
      "1198/1198 [==============================] - 21s 17ms/step - loss: 0.0043 - acc: 0.0017\n",
      "Epoch 23/30\n",
      "1198/1198 [==============================] - 19s 16ms/step - loss: 0.0043 - acc: 0.0017\n",
      "Epoch 24/30\n",
      "1198/1198 [==============================] - 21s 17ms/step - loss: 0.0039 - acc: 0.0017\n",
      "Epoch 25/30\n",
      "1198/1198 [==============================] - 20s 17ms/step - loss: 0.0037 - acc: 0.0017\n",
      "Epoch 26/30\n",
      "1198/1198 [==============================] - 20s 17ms/step - loss: 0.0037 - acc: 0.0017\n",
      "Epoch 27/30\n",
      "1198/1198 [==============================] - 20s 17ms/step - loss: 0.0036 - acc: 0.0017\n",
      "Epoch 28/30\n",
      "1198/1198 [==============================] - 20s 17ms/step - loss: 0.0045 - acc: 0.0017\n",
      "Epoch 29/30\n",
      "1198/1198 [==============================] - 20s 17ms/step - loss: 0.0034 - acc: 0.0017\n",
      "Epoch 30/30\n",
      "1198/1198 [==============================] - 21s 18ms/step - loss: 0.0031 - acc: 0.0017\n",
      "Epoch 1/40\n",
      "1198/1198 [==============================] - 25s 21ms/step - loss: 0.0689 - acc: 8.3472e-04\n",
      "Epoch 2/40\n",
      "1198/1198 [==============================] - 19s 16ms/step - loss: 0.0070 - acc: 0.0017\n",
      "Epoch 3/40\n",
      "1198/1198 [==============================] - 19s 16ms/step - loss: 0.0063 - acc: 0.0017\n",
      "Epoch 4/40\n",
      "1198/1198 [==============================] - 19s 16ms/step - loss: 0.0059 - acc: 0.0017\n",
      "Epoch 5/40\n",
      "1198/1198 [==============================] - 19s 16ms/step - loss: 0.0050 - acc: 0.0017\n",
      "Epoch 6/40\n",
      "1198/1198 [==============================] - 21s 17ms/step - loss: 0.0050 - acc: 0.0017\n",
      "Epoch 7/40\n",
      "1198/1198 [==============================] - 19s 16ms/step - loss: 0.0051 - acc: 0.0017\n",
      "Epoch 8/40\n",
      "1198/1198 [==============================] - 18s 15ms/step - loss: 0.0043 - acc: 0.0017\n",
      "Epoch 9/40\n",
      "1198/1198 [==============================] - 20s 17ms/step - loss: 0.0043 - acc: 0.0017\n",
      "Epoch 10/40\n",
      "1198/1198 [==============================] - 19s 16ms/step - loss: 0.0048 - acc: 0.0017\n",
      "Epoch 11/40\n",
      "1198/1198 [==============================] - 18s 15ms/step - loss: 0.0045 - acc: 0.0017\n",
      "Epoch 12/40\n",
      "1198/1198 [==============================] - 19s 16ms/step - loss: 0.0049 - acc: 0.0017\n",
      "Epoch 13/40\n",
      "1198/1198 [==============================] - 18s 15ms/step - loss: 0.0042 - acc: 0.0017\n",
      "Epoch 14/40\n",
      "1198/1198 [==============================] - 18s 15ms/step - loss: 0.0043 - acc: 0.0017\n",
      "Epoch 15/40\n",
      "1198/1198 [==============================] - 18s 15ms/step - loss: 0.0050 - acc: 0.0017\n",
      "Epoch 16/40\n",
      "1198/1198 [==============================] - 18s 15ms/step - loss: 0.0037 - acc: 0.0017\n",
      "Epoch 17/40\n",
      "1198/1198 [==============================] - 19s 16ms/step - loss: 0.0044 - acc: 0.0017\n",
      "Epoch 18/40\n",
      "1198/1198 [==============================] - 18s 15ms/step - loss: 0.0040 - acc: 0.0017\n",
      "Epoch 19/40\n",
      "1198/1198 [==============================] - 18s 15ms/step - loss: 0.0036 - acc: 0.0017\n",
      "Epoch 20/40\n",
      "1198/1198 [==============================] - 18s 15ms/step - loss: 0.0040 - acc: 0.0017\n",
      "Epoch 21/40\n",
      "1198/1198 [==============================] - 19s 15ms/step - loss: 0.0036 - acc: 0.0017\n",
      "Epoch 22/40\n",
      "1198/1198 [==============================] - 18s 15ms/step - loss: 0.0038 - acc: 0.0017\n",
      "Epoch 23/40\n",
      "1198/1198 [==============================] - 18s 15ms/step - loss: 0.0037 - acc: 0.0017\n",
      "Epoch 24/40\n",
      "1198/1198 [==============================] - 18s 15ms/step - loss: 0.0037 - acc: 0.0017\n",
      "Epoch 25/40\n",
      "1198/1198 [==============================] - 18s 15ms/step - loss: 0.0035 - acc: 0.0017\n",
      "Epoch 26/40\n",
      "1198/1198 [==============================] - 18s 15ms/step - loss: 0.0035 - acc: 0.0017\n",
      "Epoch 27/40\n",
      "1198/1198 [==============================] - 18s 15ms/step - loss: 0.0036 - acc: 0.0017\n",
      "Epoch 28/40\n",
      "1198/1198 [==============================] - 18s 15ms/step - loss: 0.0034 - acc: 0.0017\n",
      "Epoch 29/40\n",
      "1198/1198 [==============================] - 18s 15ms/step - loss: 0.0034 - acc: 0.0017\n",
      "Epoch 30/40\n",
      "1198/1198 [==============================] - 18s 15ms/step - loss: 0.0036 - acc: 0.0017\n",
      "Epoch 31/40\n",
      "1198/1198 [==============================] - 18s 15ms/step - loss: 0.0040 - acc: 0.0017\n",
      "Epoch 32/40\n",
      "1198/1198 [==============================] - 18s 15ms/step - loss: 0.0035 - acc: 0.0017\n",
      "Epoch 33/40\n",
      "1198/1198 [==============================] - 18s 15ms/step - loss: 0.0034 - acc: 0.0017\n",
      "Epoch 34/40\n",
      "1198/1198 [==============================] - 18s 15ms/step - loss: 0.0034 - acc: 0.0017\n",
      "Epoch 35/40\n",
      "1198/1198 [==============================] - 18s 15ms/step - loss: 0.0028 - acc: 0.0017\n",
      "Epoch 36/40\n",
      "1198/1198 [==============================] - 18s 15ms/step - loss: 0.0031 - acc: 0.0017\n",
      "Epoch 37/40\n",
      "1198/1198 [==============================] - 18s 15ms/step - loss: 0.0031 - acc: 0.0017\n",
      "Epoch 38/40\n",
      "1198/1198 [==============================] - 19s 16ms/step - loss: 0.0033 - acc: 0.0017\n",
      "Epoch 39/40\n",
      "1198/1198 [==============================] - 18s 15ms/step - loss: 0.0031 - acc: 0.0017\n",
      "Epoch 40/40\n",
      "1198/1198 [==============================] - 19s 16ms/step - loss: 0.0030 - acc: 0.0017\n"
     ]
    },
    {
     "data": {
      "text/plain": [
       "<matplotlib.legend.Legend at 0x1a3c722780>"
      ]
     },
     "execution_count": 25,
     "metadata": {},
     "output_type": "execute_result"
    },
    {
     "data": {
      "image/png": "[encoded data removed]",
      "text/plain": [
       "<matplotlib.figure.Figure at 0x1a3d1f3f60>"
      ]
     },
     "metadata": {},
     "output_type": "display_data"
    }
   ],
   "source": [
    "for epochs in [10,20,30,40]:\n",
    "    model = Sequential()\n",
    "    model.add(LSTM(units = 50,activation='relu', return_sequences = True, input_shape = (X_train.shape[1], 1)))\n",
    "    model.add(Dropout(0.2))\n",
    "    model.add(LSTM(units = 50,activation='relu', return_sequences = True))\n",
    "    model.add(Dropout(0.2))\n",
    "    model.add(LSTM(units = 50,activation='relu', return_sequences = True))\n",
    "    model.add(Dropout(0.2))\n",
    "    model.add(LSTM(units = 50))\n",
    "    model.add(Dropout(0.2))\n",
    "    model.add(Dense(units = 1))\n",
    "    model.compile(loss='mean_squared_error',\n",
    "              optimizer='adam',\n",
    "              metrics=['accuracy'])    \n",
    "    history = model.fit(X_train, y_train,\n",
    "                    batch_size=32,\n",
    "                    epochs=epochs)\n",
    "    \n",
    "    plt.plot(history.history['loss'])\n",
    "    \n",
    "plt.title('Loss in Model')\n",
    "plt.ylabel('Loss')\n",
    "plt.xlabel('EPOCH')\n",
    "plt.legend(['EPOCH1', 'EPOCH2', 'EPOCH3', 'EPOCH4'], loc='upper left')"
   ]
  },
  {
   "cell_type": "markdown",
   "metadata": {},
   "source": [
    "- As the epoch increases, the loss decreases"
   ]
  },
  {
   "cell_type": "markdown",
   "metadata": {},
   "source": [
    "## Part E  Gradient estimation"
   ]
  },
  {
   "cell_type": "code",
   "execution_count": 26,
   "metadata": {},
   "outputs": [
    {
     "name": "stdout",
     "output_type": "stream",
     "text": [
      "Epoch 1/20\n",
      "1198/1198 [==============================] - 27s 22ms/step - loss: 0.0922 - acc: 8.3472e-04\n",
      "Epoch 2/20\n",
      "1198/1198 [==============================] - 20s 17ms/step - loss: 0.0095 - acc: 0.0017\n",
      "Epoch 3/20\n",
      "1198/1198 [==============================] - 21s 18ms/step - loss: 0.0068 - acc: 0.0017\n",
      "Epoch 4/20\n",
      "1198/1198 [==============================] - 19s 16ms/step - loss: 0.0059 - acc: 0.0017\n",
      "Epoch 5/20\n",
      "1198/1198 [==============================] - 22s 18ms/step - loss: 0.0064 - acc: 0.0017\n",
      "Epoch 6/20\n",
      "1198/1198 [==============================] - 20s 17ms/step - loss: 0.0064 - acc: 0.0017\n",
      "Epoch 7/20\n",
      "1198/1198 [==============================] - 20s 17ms/step - loss: 0.0056 - acc: 0.0017\n",
      "Epoch 8/20\n",
      "1198/1198 [==============================] - 21s 18ms/step - loss: 0.0048 - acc: 0.0017\n",
      "Epoch 9/20\n",
      "1198/1198 [==============================] - 20s 17ms/step - loss: 0.0048 - acc: 0.0017\n",
      "Epoch 10/20\n",
      "1198/1198 [==============================] - 20s 16ms/step - loss: 0.0048 - acc: 0.0017\n",
      "Epoch 11/20\n",
      "1198/1198 [==============================] - 20s 16ms/step - loss: 0.0051 - acc: 0.0017\n",
      "Epoch 12/20\n",
      "1198/1198 [==============================] - 21s 18ms/step - loss: 0.0046 - acc: 0.0017\n",
      "Epoch 13/20\n",
      "1198/1198 [==============================] - 21s 18ms/step - loss: 0.0049 - acc: 0.0017\n",
      "Epoch 14/20\n",
      "1198/1198 [==============================] - 22s 18ms/step - loss: 0.0045 - acc: 0.0017\n",
      "Epoch 15/20\n",
      "1198/1198 [==============================] - 20s 17ms/step - loss: 0.0040 - acc: 0.0017\n",
      "Epoch 16/20\n",
      "1198/1198 [==============================] - 23s 19ms/step - loss: 0.0050 - acc: 0.0017\n",
      "Epoch 17/20\n",
      "1198/1198 [==============================] - 21s 17ms/step - loss: 0.0041 - acc: 0.0017\n",
      "Epoch 18/20\n",
      "1198/1198 [==============================] - 20s 17ms/step - loss: 0.0043 - acc: 0.0017\n",
      "Epoch 19/20\n",
      "1198/1198 [==============================] - 19s 16ms/step - loss: 0.0042 - acc: 0.0017\n",
      "Epoch 20/20\n",
      "1198/1198 [==============================] - 21s 17ms/step - loss: 0.0040 - acc: 0.0017\n",
      "Epoch 1/20\n",
      "1198/1198 [==============================] - 27s 23ms/step - loss: 0.0427 - acc: 0.0017\n",
      "Epoch 2/20\n",
      "1198/1198 [==============================] - 23s 19ms/step - loss: 0.0127 - acc: 0.0017\n",
      "Epoch 3/20\n",
      "1198/1198 [==============================] - 20s 17ms/step - loss: 0.0105 - acc: 0.0017\n",
      "Epoch 4/20\n",
      "1198/1198 [==============================] - 20s 17ms/step - loss: 0.0102 - acc: 0.0017\n",
      "Epoch 5/20\n",
      "1198/1198 [==============================] - 19s 16ms/step - loss: 0.0104 - acc: 0.0017\n",
      "Epoch 6/20\n",
      "1198/1198 [==============================] - 19s 16ms/step - loss: 0.0081 - acc: 0.0017\n",
      "Epoch 7/20\n",
      "1198/1198 [==============================] - 20s 17ms/step - loss: 0.0077 - acc: 0.0017\n",
      "Epoch 8/20\n",
      "1198/1198 [==============================] - 22s 18ms/step - loss: 0.0081 - acc: 0.0017\n",
      "Epoch 9/20\n",
      "1198/1198 [==============================] - 20s 17ms/step - loss: 0.0070 - acc: 0.0017\n",
      "Epoch 10/20\n",
      "1198/1198 [==============================] - 19s 16ms/step - loss: 0.0070 - acc: 0.0017\n",
      "Epoch 11/20\n",
      "1198/1198 [==============================] - 21s 17ms/step - loss: 0.0068 - acc: 0.0017\n",
      "Epoch 12/20\n",
      "1198/1198 [==============================] - 22s 18ms/step - loss: 0.0059 - acc: 0.0017\n",
      "Epoch 13/20\n",
      "1198/1198 [==============================] - 20s 17ms/step - loss: 0.0072 - acc: 0.0017\n",
      "Epoch 14/20\n",
      "1198/1198 [==============================] - 21s 18ms/step - loss: 0.0057 - acc: 0.0017\n",
      "Epoch 15/20\n",
      "1198/1198 [==============================] - 21s 17ms/step - loss: 0.0062 - acc: 0.0017\n",
      "Epoch 16/20\n",
      "1198/1198 [==============================] - 20s 16ms/step - loss: 0.0062 - acc: 0.0017\n",
      "Epoch 17/20\n",
      "1198/1198 [==============================] - 20s 16ms/step - loss: 0.0055 - acc: 0.0017\n",
      "Epoch 18/20\n",
      "1198/1198 [==============================] - 20s 17ms/step - loss: 0.0051 - acc: 0.0017\n",
      "Epoch 19/20\n",
      "1198/1198 [==============================] - 20s 17ms/step - loss: 0.0052 - acc: 0.0017\n",
      "Epoch 20/20\n",
      "1198/1198 [==============================] - 22s 18ms/step - loss: 0.0048 - acc: 0.0017\n",
      "Epoch 1/20\n",
      "1198/1198 [==============================] - 26s 22ms/step - loss: 0.1290 - acc: 8.3472e-04\n",
      "Epoch 2/20\n",
      "1198/1198 [==============================] - 19s 16ms/step - loss: 0.0735 - acc: 0.0017\n",
      "Epoch 3/20\n",
      "1198/1198 [==============================] - 20s 16ms/step - loss: 0.0721 - acc: 0.0017\n",
      "Epoch 4/20\n",
      "1198/1198 [==============================] - 22s 18ms/step - loss: 0.0729 - acc: 0.0017\n",
      "Epoch 5/20\n",
      "1198/1198 [==============================] - 23s 19ms/step - loss: 0.0725 - acc: 0.0017\n",
      "Epoch 6/20\n",
      "1198/1198 [==============================] - 20s 16ms/step - loss: 0.0717 - acc: 8.3472e-04\n",
      "Epoch 7/20\n",
      "1198/1198 [==============================] - 21s 18ms/step - loss: 0.0701 - acc: 0.0017\n",
      "Epoch 8/20\n",
      "1198/1198 [==============================] - 21s 18ms/step - loss: 0.0704 - acc: 8.3472e-04\n",
      "Epoch 9/20\n",
      "1198/1198 [==============================] - 20s 17ms/step - loss: 0.0705 - acc: 8.3472e-04\n",
      "Epoch 10/20\n",
      "1198/1198 [==============================] - 19s 16ms/step - loss: 0.0696 - acc: 0.0017\n",
      "Epoch 11/20\n",
      "1198/1198 [==============================] - 19s 16ms/step - loss: 0.0694 - acc: 0.0017\n",
      "Epoch 12/20\n",
      "1198/1198 [==============================] - 19s 16ms/step - loss: 0.0688 - acc: 0.0017\n",
      "Epoch 13/20\n",
      "1198/1198 [==============================] - 21s 18ms/step - loss: 0.0677 - acc: 0.0017\n",
      "Epoch 14/20\n",
      "1198/1198 [==============================] - 20s 17ms/step - loss: 0.0670 - acc: 8.3472e-04\n",
      "Epoch 15/20\n",
      "1198/1198 [==============================] - 19s 16ms/step - loss: 0.0654 - acc: 0.0017\n",
      "Epoch 16/20\n",
      "1198/1198 [==============================] - 19s 16ms/step - loss: 0.0651 - acc: 0.0017\n",
      "Epoch 17/20\n",
      "1198/1198 [==============================] - 18s 15ms/step - loss: 0.0638 - acc: 0.0017\n",
      "Epoch 18/20\n",
      "1198/1198 [==============================] - 18s 15ms/step - loss: 0.0626 - acc: 0.0017\n",
      "Epoch 19/20\n",
      "1198/1198 [==============================] - 18s 15ms/step - loss: 0.0606 - acc: 0.0017\n",
      "Epoch 20/20\n",
      "1198/1198 [==============================] - 18s 15ms/step - loss: 0.0588 - acc: 0.0017\n",
      "Epoch 1/20\n",
      "1198/1198 [==============================] - 24s 20ms/step - loss: 0.4787 - acc: 0.0017\n",
      "Epoch 2/20\n",
      "1198/1198 [==============================] - 18s 15ms/step - loss: 0.2685 - acc: 8.3472e-04\n",
      "Epoch 3/20\n",
      "1198/1198 [==============================] - 18s 15ms/step - loss: 0.3246 - acc: 8.3472e-04\n",
      "Epoch 4/20\n",
      "1198/1198 [==============================] - 18s 15ms/step - loss: 0.2445 - acc: 8.3472e-04\n",
      "Epoch 5/20\n",
      "1198/1198 [==============================] - 18s 15ms/step - loss: 0.2157 - acc: 8.3472e-04\n",
      "Epoch 6/20\n",
      "1198/1198 [==============================] - 18s 15ms/step - loss: 0.1968 - acc: 0.0017\n",
      "Epoch 7/20\n",
      "1198/1198 [==============================] - 18s 15ms/step - loss: 0.1864 - acc: 8.3472e-04\n",
      "Epoch 8/20\n",
      "1198/1198 [==============================] - 18s 15ms/step - loss: 0.1687 - acc: 0.0000e+00\n",
      "Epoch 9/20\n",
      "1198/1198 [==============================] - 18s 15ms/step - loss: 0.1589 - acc: 0.0000e+00\n",
      "Epoch 10/20\n",
      "1198/1198 [==============================] - 18s 15ms/step - loss: 0.1454 - acc: 8.3472e-04\n",
      "Epoch 11/20\n",
      "1198/1198 [==============================] - 18s 15ms/step - loss: 0.1456 - acc: 8.3472e-04\n",
      "Epoch 12/20\n",
      "1198/1198 [==============================] - 18s 15ms/step - loss: 0.1401 - acc: 0.0000e+00\n",
      "Epoch 13/20\n",
      "1198/1198 [==============================] - 18s 15ms/step - loss: 0.1290 - acc: 0.0017\n",
      "Epoch 14/20\n",
      "1198/1198 [==============================] - 18s 15ms/step - loss: 0.1294 - acc: 0.0017\n",
      "Epoch 15/20\n",
      "1198/1198 [==============================] - 18s 15ms/step - loss: 0.1269 - acc: 0.0017\n",
      "Epoch 16/20\n",
      "1198/1198 [==============================] - 18s 15ms/step - loss: 0.1194 - acc: 0.0000e+00\n",
      "Epoch 17/20\n",
      "1198/1198 [==============================] - 18s 15ms/step - loss: 0.1179 - acc: 0.0017\n",
      "Epoch 18/20\n",
      "1198/1198 [==============================] - 18s 15ms/step - loss: 0.1188 - acc: 0.0000e+00\n",
      "Epoch 19/20\n",
      "1198/1198 [==============================] - 18s 15ms/step - loss: 0.1216 - acc: 8.3472e-04\n",
      "Epoch 20/20\n",
      "1198/1198 [==============================] - 18s 15ms/step - loss: 0.1146 - acc: 0.0017\n"
     ]
    },
    {
     "data": {
      "text/plain": [
       "<matplotlib.legend.Legend at 0x1a4696b7f0>"
      ]
     },
     "execution_count": 26,
     "metadata": {},
     "output_type": "execute_result"
    },
    {
     "data": {
      "image/png": "[encoded data removed]",
      "text/plain": [
       "<matplotlib.figure.Figure at 0x1a469a8ef0>"
      ]
     },
     "metadata": {},
     "output_type": "display_data"
    }
   ],
   "source": [
    "epochs = 20\n",
    "\n",
    "for optimizer in ['adam', 'rmsprop', 'sgd', 'adagrad']:\n",
    "    model = Sequential()\n",
    "    model.add(LSTM(units = 50,activation='relu', return_sequences = True, input_shape = (X_train.shape[1], 1)))\n",
    "    model.add(Dropout(0.2))\n",
    "    model.add(LSTM(units = 50,activation='relu', return_sequences = True))\n",
    "    model.add(Dropout(0.2))\n",
    "    model.add(LSTM(units = 50,activation='relu', return_sequences = True))\n",
    "    model.add(Dropout(0.2))\n",
    "    model.add(LSTM(units = 50))\n",
    "    model.add(Dropout(0.2))\n",
    "    model.add(Dense(units = 1))\n",
    "    model.compile(loss='mean_squared_error',\n",
    "              optimizer=optimizer,\n",
    "              metrics=['accuracy'])    \n",
    "    history = model.fit(X_train, y_train,\n",
    "                    batch_size=32,\n",
    "                    epochs=epochs)\n",
    "    \n",
    "    plt.plot(history.history['loss'])\n",
    "    \n",
    "plt.title('Loss in Model')\n",
    "plt.ylabel('Loss')\n",
    "plt.xlabel('EPOCH')\n",
    "plt.legend(['ADAM', 'RMSPROP', 'SGD', 'ADAGRAD'], loc='upper left')"
   ]
  },
  {
   "cell_type": "markdown",
   "metadata": {},
   "source": [
    "- Adam optimizer is best for this model.Stochastic Gradient Descent is the default. Get the most out of it first, with different learning rates, momentum and learning rate schedules.\n",
    "- Many of the more advanced optimization methods offer more parameters, more complexity and faster convergence. This is good and bad, depending on your problem.\n",
    "- To get the most out of a given method, you really need to dive into the meaning of each parameter, then grid search different values for your problem. Hard. Time Consuming. It might payoff.\n",
    "- I have found that newer/popular methods can converge a lot faster and give a quick idea of the capability of a given network topology, for example:\n"
   ]
  },
  {
   "cell_type": "markdown",
   "metadata": {},
   "source": [
    "## Part F Network Architecture"
   ]
  },
  {
   "cell_type": "markdown",
   "metadata": {},
   "source": [
    "- Larger networks have a greater representational capability, and maybe we need it.\n",
    "- More layers offer more opportunity for hierarchical re-composition of abstract features learned from the data. Later networks need more training, both in epochs and in learning rate."
   ]
  },
  {
   "cell_type": "code",
   "execution_count": 27,
   "metadata": {
    "collapsed": true
   },
   "outputs": [],
   "source": [
    "# 3 layers\n",
    "# Initialising the RNN\n",
    "model = Sequential()\n",
    "model.add(LSTM(units = 50,activation='tanh', return_sequences = True, input_shape = (X_train.shape[1], 1)))\n",
    "model.add(Dropout(0.2))\n",
    "\n",
    "# Adding a second LSTM layer and some Dropout regularisation\n",
    "model.add(LSTM(units = 50,activation='tanh', return_sequences = True))\n",
    "model.add(Dropout(0.2))\n",
    "\n",
    "# Adding a Thrid LSTM layer and some Dropout regularisation\n",
    "model.add(LSTM(units = 50))\n",
    "model.add(Dropout(0.2))\n",
    "\n",
    "model.add(Dense(units = 1))"
   ]
  },
  {
   "cell_type": "code",
   "execution_count": 28,
   "metadata": {
    "collapsed": true
   },
   "outputs": [],
   "source": [
    "model.compile(optimizer = 'adam', loss = 'mean_squared_error', metrics=['accuracy'])"
   ]
  },
  {
   "cell_type": "code",
   "execution_count": 29,
   "metadata": {},
   "outputs": [
    {
     "name": "stdout",
     "output_type": "stream",
     "text": [
      "Epoch 1/20\n",
      "1198/1198 [==============================] - 21s 17ms/step - loss: 0.0457 - acc: 0.0017\n",
      "Epoch 2/20\n",
      "1198/1198 [==============================] - 14s 12ms/step - loss: 0.0053 - acc: 0.0017\n",
      "Epoch 3/20\n",
      "1198/1198 [==============================] - 14s 11ms/step - loss: 0.0049 - acc: 0.0017\n",
      "Epoch 4/20\n",
      "1198/1198 [==============================] - 14s 12ms/step - loss: 0.0044 - acc: 0.0017\n",
      "Epoch 5/20\n",
      "1198/1198 [==============================] - 14s 11ms/step - loss: 0.0042 - acc: 0.0017\n",
      "Epoch 6/20\n",
      "1198/1198 [==============================] - 14s 11ms/step - loss: 0.0039 - acc: 0.0017\n",
      "Epoch 7/20\n",
      "1198/1198 [==============================] - 14s 12ms/step - loss: 0.0039 - acc: 0.0017\n",
      "Epoch 8/20\n",
      "1198/1198 [==============================] - 14s 12ms/step - loss: 0.0034 - acc: 0.0017\n",
      "Epoch 9/20\n",
      "1198/1198 [==============================] - 14s 11ms/step - loss: 0.0042 - acc: 0.0017\n",
      "Epoch 10/20\n",
      "1198/1198 [==============================] - 14s 12ms/step - loss: 0.0041 - acc: 0.0017\n",
      "Epoch 11/20\n",
      "1198/1198 [==============================] - 14s 11ms/step - loss: 0.0037 - acc: 0.0017\n",
      "Epoch 12/20\n",
      "1198/1198 [==============================] - 14s 12ms/step - loss: 0.0039 - acc: 0.0017\n",
      "Epoch 13/20\n",
      "1198/1198 [==============================] - 15s 13ms/step - loss: 0.0035 - acc: 0.0017\n",
      "Epoch 14/20\n",
      "1198/1198 [==============================] - 14s 12ms/step - loss: 0.0038 - acc: 0.0017\n",
      "Epoch 15/20\n",
      "1198/1198 [==============================] - 14s 12ms/step - loss: 0.0034 - acc: 0.0017\n",
      "Epoch 16/20\n",
      "1198/1198 [==============================] - 14s 12ms/step - loss: 0.0036 - acc: 0.0017\n",
      "Epoch 17/20\n",
      "1198/1198 [==============================] - 14s 12ms/step - loss: 0.0032 - acc: 0.0017\n",
      "Epoch 18/20\n",
      "1198/1198 [==============================] - 14s 12ms/step - loss: 0.0038 - acc: 0.0017\n",
      "Epoch 19/20\n",
      "1198/1198 [==============================] - 14s 11ms/step - loss: 0.0032 - acc: 0.0017\n",
      "Epoch 20/20\n",
      "1198/1198 [==============================] - 14s 12ms/step - loss: 0.0034 - acc: 0.0017\n"
     ]
    },
    {
     "data": {
      "text/plain": [
       "<keras.callbacks.History at 0x1a31b37978>"
      ]
     },
     "execution_count": 29,
     "metadata": {},
     "output_type": "execute_result"
    }
   ],
   "source": [
    "# Fitting the RNN to the Training set\n",
    "model.fit(X_train, y_train, epochs = 20, batch_size = 32)"
   ]
  },
  {
   "cell_type": "code",
   "execution_count": 30,
   "metadata": {
    "collapsed": true
   },
   "outputs": [],
   "source": [
    "# 4 layers\n",
    "# Initialising the RNN\n",
    "model1 = Sequential()\n",
    "model1.add(LSTM(units = 50,activation='tanh', return_sequences = True, input_shape = (X_train.shape[1], 1)))\n",
    "model1.add(Dropout(0.2))\n",
    "\n",
    "# Adding a second LSTM layer and some Dropout regularisation\n",
    "model1.add(LSTM(units = 50,activation='tanh', return_sequences = True))\n",
    "model1.add(Dropout(0.2))\n",
    "\n",
    "# Adding a third LSTM layer and some Dropout regularisation\n",
    "model1.add(LSTM(units = 50, return_sequences = True))\n",
    "model1.add(Dropout(0.2))\n",
    "\n",
    "# Adding a fourth LSTM layer and some Dropout regularisation\n",
    "model1.add(LSTM(units = 50))\n",
    "model1.add(Dropout(0.2))\n",
    "\n",
    "model1.add(Dense(units = 1))"
   ]
  },
  {
   "cell_type": "code",
   "execution_count": 31,
   "metadata": {
    "collapsed": true
   },
   "outputs": [],
   "source": [
    "model1.compile(optimizer = 'adam', loss = 'mean_squared_error')"
   ]
  },
  {
   "cell_type": "code",
   "execution_count": 32,
   "metadata": {},
   "outputs": [
    {
     "name": "stdout",
     "output_type": "stream",
     "text": [
      "Epoch 1/20\n",
      "1198/1198 [==============================] - 25s 21ms/step - loss: 0.0525\n",
      "Epoch 2/20\n",
      "1198/1198 [==============================] - 18s 15ms/step - loss: 0.0061\n",
      "Epoch 3/20\n",
      "1198/1198 [==============================] - 20s 17ms/step - loss: 0.0048\n",
      "Epoch 4/20\n",
      "1198/1198 [==============================] - 19s 15ms/step - loss: 0.0056\n",
      "Epoch 5/20\n",
      "1198/1198 [==============================] - 18s 15ms/step - loss: 0.0053\n",
      "Epoch 6/20\n",
      "1198/1198 [==============================] - 19s 16ms/step - loss: 0.0049\n",
      "Epoch 7/20\n",
      "1198/1198 [==============================] - 18s 15ms/step - loss: 0.0045\n",
      "Epoch 8/20\n",
      "1198/1198 [==============================] - 18s 15ms/step - loss: 0.0042\n",
      "Epoch 9/20\n",
      "1198/1198 [==============================] - 18s 15ms/step - loss: 0.0043\n",
      "Epoch 10/20\n",
      "1198/1198 [==============================] - 20s 17ms/step - loss: 0.0047\n",
      "Epoch 11/20\n",
      "1198/1198 [==============================] - 18s 15ms/step - loss: 0.0044\n",
      "Epoch 12/20\n",
      "1198/1198 [==============================] - 18s 15ms/step - loss: 0.0039\n",
      "Epoch 13/20\n",
      "1198/1198 [==============================] - 18s 15ms/step - loss: 0.0039\n",
      "Epoch 14/20\n",
      "1198/1198 [==============================] - 18s 15ms/step - loss: 0.0037\n",
      "Epoch 15/20\n",
      "1198/1198 [==============================] - 19s 16ms/step - loss: 0.0040\n",
      "Epoch 16/20\n",
      "1198/1198 [==============================] - 18s 15ms/step - loss: 0.0040\n",
      "Epoch 17/20\n",
      "1198/1198 [==============================] - 18s 15ms/step - loss: 0.0040\n",
      "Epoch 18/20\n",
      "1198/1198 [==============================] - 19s 16ms/step - loss: 0.0036\n",
      "Epoch 19/20\n",
      "1198/1198 [==============================] - 18s 15ms/step - loss: 0.0037\n",
      "Epoch 20/20\n",
      "1198/1198 [==============================] - 19s 16ms/step - loss: 0.0036\n"
     ]
    },
    {
     "data": {
      "text/plain": [
       "<keras.callbacks.History at 0x1a53b1def0>"
      ]
     },
     "execution_count": 32,
     "metadata": {},
     "output_type": "execute_result"
    }
   ],
   "source": [
    "# Fitting the RNN to the Training set\n",
    "model1.fit(X_train, y_train, epochs = 20, batch_size = 32)"
   ]
  },
  {
   "cell_type": "markdown",
   "metadata": {},
   "source": [
    "- The dense network with four layers is best over here."
   ]
  },
  {
   "cell_type": "markdown",
   "metadata": {},
   "source": [
    "## Part G  Network initialization"
   ]
  },
  {
   "cell_type": "markdown",
   "metadata": {},
   "source": [
    "- The weights are the actual parameters of your model that you are trying to find. There are many sets of weights that give good performance, but you want better performance.\n",
    "\n",
    "- Try all the different initialization methods offered and see if one is better with all else held constant.\n",
    "- Try pre-learning with an unsupervised method like an autoencoder.\n",
    "- Try taking an existing model and retraining a new input and output layer for your problem (transfer learning)"
   ]
  },
  {
   "cell_type": "code",
   "execution_count": null,
   "metadata": {},
   "outputs": [
    {
     "name": "stderr",
     "output_type": "stream",
     "text": [
      "/Users/palakagrawal/anaconda3/lib/python3.6/site-packages/ipykernel_launcher.py:5: UserWarning: Update your `LSTM` call to the Keras 2 API: `LSTM(units=50, activation=\"relu\", return_sequences=True, input_shape=(60, 1), kernel_initializer=\"random_uniform\")`\n",
      "  \"\"\"\n",
      "/Users/palakagrawal/anaconda3/lib/python3.6/site-packages/ipykernel_launcher.py:7: UserWarning: Update your `LSTM` call to the Keras 2 API: `LSTM(units=50, activation=\"relu\", return_sequences=True, kernel_initializer=\"random_uniform\")`\n",
      "  import sys\n",
      "/Users/palakagrawal/anaconda3/lib/python3.6/site-packages/ipykernel_launcher.py:9: UserWarning: Update your `LSTM` call to the Keras 2 API: `LSTM(units=50, activation=\"relu\", return_sequences=True, kernel_initializer=\"random_uniform\")`\n",
      "  if __name__ == '__main__':\n"
     ]
    },
    {
     "name": "stdout",
     "output_type": "stream",
     "text": [
      "Epoch 1/20\n",
      "1198/1198 [==============================] - 26s 22ms/step - loss: 0.1034 - acc: 8.3472e-04\n",
      "Epoch 2/20\n",
      "1198/1198 [==============================] - 19s 16ms/step - loss: 0.0118 - acc: 0.0017\n",
      "Epoch 3/20\n",
      "1198/1198 [==============================] - 19s 16ms/step - loss: 0.0064 - acc: 0.0017\n",
      "Epoch 4/20\n",
      "1198/1198 [==============================] - 21s 17ms/step - loss: 0.0062 - acc: 0.0017\n",
      "Epoch 5/20\n",
      " 640/1198 [===============>..............] - ETA: 8s - loss: 0.0053 - acc: 0.0000e+00"
     ]
    }
   ],
   "source": [
    "epochs = 20\n",
    "\n",
    "for init in ['random_uniform','uniform','random_normal' ]:\n",
    "    model = Sequential()\n",
    "    model.add(LSTM(units = 50,activation='relu',init=init ,return_sequences = True, input_shape = (X_train.shape[1], 1)))\n",
    "    model.add(Dropout(0.2))\n",
    "    model.add(LSTM(units = 50,activation='relu',init=init ,return_sequences = True))\n",
    "    model.add(Dropout(0.2))\n",
    "    model.add(LSTM(units = 50,activation='relu',init=init ,return_sequences = True))\n",
    "    model.add(Dropout(0.2))\n",
    "    model.add(LSTM(units = 50))\n",
    "    model.add(Dropout(0.2))\n",
    "    model.add(Dense(units = 1))\n",
    "    model.compile(loss='mean_squared_error',\n",
    "              optimizer=optimizer,\n",
    "              metrics=['accuracy'])    \n",
    "    history = model.fit(X_train, y_train,\n",
    "                    batch_size=32,\n",
    "                    epochs=epochs)\n",
    "    \n",
    "    plt.plot(history.history['loss'])\n",
    "    \n",
    "plt.title('Loss in Model')\n",
    "plt.ylabel('Loss')\n",
    "plt.xlabel('EPOCH')\n",
    "plt.legend(['Random Uniform','Uniform','Random Normal'], loc='upper left')"
   ]
  },
  {
   "cell_type": "markdown",
   "metadata": {
    "collapsed": true
   },
   "source": [
    "- Improving Neural network performance https://machinelearningmastery.com/improve-deep-learning-performance/"
   ]
  },
  {
   "cell_type": "code",
   "execution_count": null,
   "metadata": {
    "collapsed": true
   },
   "outputs": [],
   "source": []
  }
 ],
 "metadata": {
  "kernelspec": {
   "display_name": "Python 3",
   "language": "python",
   "name": "python3"
  },
  "language_info": {
   "codemirror_mode": {
    "name": "ipython",
    "version": 3
   },
   "file_extension": ".py",
   "mimetype": "text/x-python",
   "name": "python",
   "nbconvert_exporter": "python",
   "pygments_lexer": "ipython3",
   "version": "3.6.3"
  }
 },
 "nbformat": 4,
 "nbformat_minor": 2
}
